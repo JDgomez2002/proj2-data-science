{
 "cells": [
  {
   "cell_type": "code",
   "execution_count": 1,
   "metadata": {},
   "outputs": [],
   "source": [
    "import pandas as pd\n",
    "import seaborn as sns\n",
    "import matplotlib.pyplot as plt\n",
    "import seaborn as sns\n",
    "\n",
    "from transformers import AutoTokenizer, pipeline\n",
    "from sklearn.preprocessing import OneHotEncoder\n",
    "from datasets import load_dataset"
   ]
  },
  {
   "cell_type": "code",
   "execution_count": 2,
   "metadata": {},
   "outputs": [],
   "source": [
    "train = pd.read_csv('data/train.csv')"
   ]
  },
  {
   "cell_type": "code",
   "execution_count": 3,
   "metadata": {},
   "outputs": [
    {
     "name": "stdout",
     "output_type": "stream",
     "text": [
      "Original Dataset Class Distribution:\n",
      "discourse_effectiveness\n",
      "Adequate       0.570570\n",
      "Effective      0.253665\n",
      "Ineffective    0.175765\n",
      "Name: proportion, dtype: float64\n",
      "\n",
      "Training Set Class Distribution:\n",
      "discourse_effectiveness\n",
      "Adequate       0.570549\n",
      "Effective      0.253672\n",
      "Ineffective    0.175779\n",
      "Name: proportion, dtype: float64\n",
      "\n",
      "Validation Set Class Distribution:\n",
      "discourse_effectiveness\n",
      "Adequate       0.570729\n",
      "Effective      0.253536\n",
      "Ineffective    0.175734\n",
      "Name: proportion, dtype: float64\n",
      "\n",
      "Test Set Class Distribution:\n",
      "discourse_effectiveness\n",
      "Adequate       0.570574\n",
      "Effective      0.253739\n",
      "Ineffective    0.175687\n",
      "Name: proportion, dtype: float64\n",
      "\n",
      "Data successfully split and saved to CSV files.\n"
     ]
    }
   ],
   "source": [
    "import pandas as pd\n",
    "from sklearn.model_selection import train_test_split\n",
    "\n",
    "# Step 1: Load the dataset\n",
    "df = pd.read_csv('data/train.csv')\n",
    "\n",
    "# Step 2: Define the label column\n",
    "label_column = 'discourse_effectiveness'  # Replace with your actual label column name\n",
    "\n",
    "# Optional: Inspect class distribution\n",
    "print(\"Original Dataset Class Distribution:\")\n",
    "print(df[label_column].value_counts(normalize=True))\n",
    "\n",
    "# Step 3: First split - Train and Temp\n",
    "train_df, temp_df = train_test_split(\n",
    "    df,\n",
    "    test_size=0.2,  # 20% to temp\n",
    "    random_state=42,\n",
    "    stratify=df[label_column]\n",
    ")\n",
    "\n",
    "# Step 4: Second split - Validation and Test\n",
    "validation_df, test_df = train_test_split(\n",
    "    temp_df,\n",
    "    test_size=0.5,  # 10% each\n",
    "    random_state=42,\n",
    "    stratify=temp_df[label_column]\n",
    ")\n",
    "\n",
    "# Step 5: Save the splits to CSV files\n",
    "train_df.to_csv('train.csv', index=False)\n",
    "validation_df.to_csv('validation.csv', index=False)\n",
    "test_df.to_csv('test.csv', index=False)\n",
    "\n",
    "# Step 6: Verify the splits\n",
    "print(\"\\nTraining Set Class Distribution:\")\n",
    "print(train_df[label_column].value_counts(normalize=True))\n",
    "\n",
    "print(\"\\nValidation Set Class Distribution:\")\n",
    "print(validation_df[label_column].value_counts(normalize=True))\n",
    "\n",
    "print(\"\\nTest Set Class Distribution:\")\n",
    "print(test_df[label_column].value_counts(normalize=True))\n",
    "\n",
    "print(\"\\nData successfully split and saved to CSV files.\")\n"
   ]
  },
  {
   "cell_type": "code",
   "execution_count": 4,
   "metadata": {},
   "outputs": [
    {
     "data": {
      "application/vnd.jupyter.widget-view+json": {
       "model_id": "23971e395ed846ad8b5f4bf3f2e3efc7",
       "version_major": 2,
       "version_minor": 0
      },
      "text/plain": [
       "Generating train split: 0 examples [00:00, ? examples/s]"
      ]
     },
     "metadata": {},
     "output_type": "display_data"
    },
    {
     "data": {
      "application/vnd.jupyter.widget-view+json": {
       "model_id": "8c467e49ec5f4715882523a51c7409f3",
       "version_major": 2,
       "version_minor": 0
      },
      "text/plain": [
       "Generating validation split: 0 examples [00:00, ? examples/s]"
      ]
     },
     "metadata": {},
     "output_type": "display_data"
    },
    {
     "data": {
      "application/vnd.jupyter.widget-view+json": {
       "model_id": "6ace21b7de364da99255dca35f170d15",
       "version_major": 2,
       "version_minor": 0
      },
      "text/plain": [
       "Generating test split: 0 examples [00:00, ? examples/s]"
      ]
     },
     "metadata": {},
     "output_type": "display_data"
    }
   ],
   "source": [
    "dataset = load_dataset('csv', data_files={'train': 'train.csv',\n",
    "                                         'validation': 'validation.csv',\n",
    "                                         'test': 'test.csv'})"
   ]
  },
  {
   "cell_type": "code",
   "execution_count": 5,
   "metadata": {},
   "outputs": [
    {
     "data": {
      "application/vnd.jupyter.widget-view+json": {
       "model_id": "ae1090686a834147afe52855f7cb840d",
       "version_major": 2,
       "version_minor": 0
      },
      "text/plain": [
       "Map:   0%|          | 0/29412 [00:00<?, ? examples/s]"
      ]
     },
     "metadata": {},
     "output_type": "display_data"
    },
    {
     "data": {
      "application/vnd.jupyter.widget-view+json": {
       "model_id": "75f9969736794cfc87caf868fc49a98c",
       "version_major": 2,
       "version_minor": 0
      },
      "text/plain": [
       "Map:   0%|          | 0/3676 [00:00<?, ? examples/s]"
      ]
     },
     "metadata": {},
     "output_type": "display_data"
    },
    {
     "data": {
      "application/vnd.jupyter.widget-view+json": {
       "model_id": "cc43ea1f68e34da9be255e68a3165f63",
       "version_major": 2,
       "version_minor": 0
      },
      "text/plain": [
       "Map:   0%|          | 0/3677 [00:00<?, ? examples/s]"
      ]
     },
     "metadata": {},
     "output_type": "display_data"
    }
   ],
   "source": [
    "label_mapping = {\n",
    "    \"Effective\": 0,\n",
    "    \"Adequate\": 1,\n",
    "    \"Ineffective\": 2\n",
    "}\n",
    "\n",
    "def encode_labels(example):\n",
    "    example['labels'] = label_mapping[example['discourse_effectiveness']]\n",
    "    return example\n",
    "\n",
    "dataset = dataset.map(encode_labels)"
   ]
  },
  {
   "cell_type": "code",
   "execution_count": 6,
   "metadata": {},
   "outputs": [],
   "source": [
    "model_name = \"google/electra-base-discriminator\"\n",
    "tokenizer = AutoTokenizer.from_pretrained(model_name)"
   ]
  },
  {
   "cell_type": "code",
   "execution_count": 7,
   "metadata": {},
   "outputs": [
    {
     "data": {
      "application/vnd.jupyter.widget-view+json": {
       "model_id": "f30da3cf95f04a01921fe207d1bb4446",
       "version_major": 2,
       "version_minor": 0
      },
      "text/plain": [
       "Map:   0%|          | 0/29412 [00:00<?, ? examples/s]"
      ]
     },
     "metadata": {},
     "output_type": "display_data"
    },
    {
     "data": {
      "application/vnd.jupyter.widget-view+json": {
       "model_id": "89ecde9b166447f080bda2ead58bf657",
       "version_major": 2,
       "version_minor": 0
      },
      "text/plain": [
       "Map:   0%|          | 0/3676 [00:00<?, ? examples/s]"
      ]
     },
     "metadata": {},
     "output_type": "display_data"
    },
    {
     "data": {
      "application/vnd.jupyter.widget-view+json": {
       "model_id": "ef18b7a948644e618da1dfc3898afc00",
       "version_major": 2,
       "version_minor": 0
      },
      "text/plain": [
       "Map:   0%|          | 0/3677 [00:00<?, ? examples/s]"
      ]
     },
     "metadata": {},
     "output_type": "display_data"
    }
   ],
   "source": [
    "def tokenize_function(example):\n",
    "    return tokenizer(example['discourse_text'], padding='max_length', truncation=True, max_length=128)\n",
    "\n",
    "tokenized_datasets = dataset.map(tokenize_function, batched=True)"
   ]
  },
  {
   "cell_type": "code",
   "execution_count": 8,
   "metadata": {},
   "outputs": [],
   "source": [
    "tokenized_datasets = tokenized_datasets.remove_columns(['discourse_id', 'essay_id', 'discourse_text', 'discourse_effectiveness'])  # Remove unnecessary columns\n",
    "tokenized_datasets.set_format('torch')"
   ]
  },
  {
   "cell_type": "code",
   "execution_count": 9,
   "metadata": {},
   "outputs": [],
   "source": [
    "from torch.utils.data import DataLoader\n",
    "\n",
    "train_dataloader = DataLoader(tokenized_datasets['train'], shuffle=True, batch_size=16)\n",
    "eval_dataloader = DataLoader(tokenized_datasets['validation'], batch_size=16)"
   ]
  },
  {
   "cell_type": "code",
   "execution_count": 10,
   "metadata": {},
   "outputs": [
    {
     "name": "stderr",
     "output_type": "stream",
     "text": [
      "Some weights of ElectraForSequenceClassification were not initialized from the model checkpoint at google/electra-base-discriminator and are newly initialized: ['classifier.dense.bias', 'classifier.dense.weight', 'classifier.out_proj.bias', 'classifier.out_proj.weight']\n",
      "You should probably TRAIN this model on a down-stream task to be able to use it for predictions and inference.\n"
     ]
    }
   ],
   "source": [
    "from transformers import AutoModelForSequenceClassification\n",
    "\n",
    "num_labels = 3  # Effective, Adequate, Not Effective\n",
    "model = AutoModelForSequenceClassification.from_pretrained(model_name, num_labels=num_labels)"
   ]
  },
  {
   "cell_type": "code",
   "execution_count": 11,
   "metadata": {},
   "outputs": [
    {
     "name": "stderr",
     "output_type": "stream",
     "text": [
      "/Library/Frameworks/Python.framework/Versions/3.11/lib/python3.11/site-packages/transformers/training_args.py:1545: FutureWarning: `evaluation_strategy` is deprecated and will be removed in version 4.46 of 🤗 Transformers. Use `eval_strategy` instead\n",
      "  warnings.warn(\n"
     ]
    }
   ],
   "source": [
    "from transformers import Trainer, TrainingArguments\n",
    "import numpy as np\n",
    "from sklearn.metrics import accuracy_score, precision_recall_fscore_support\n",
    "\n",
    "def compute_metrics(eval_pred):\n",
    "    logits, labels = eval_pred\n",
    "    predictions = np.argmax(logits, axis=-1)\n",
    "    accuracy = accuracy_score(labels, predictions)\n",
    "    precision, recall, f1, _ = precision_recall_fscore_support(labels, predictions, average='weighted')\n",
    "    return {\n",
    "        'accuracy': accuracy,\n",
    "        'precision': precision,\n",
    "        'recall': recall,\n",
    "        'f1': f1,\n",
    "    }\n",
    "\n",
    "training_args = TrainingArguments(\n",
    "    output_dir='./results',\n",
    "    evaluation_strategy=\"epoch\",\n",
    "    learning_rate=2e-4,\n",
    "    per_device_train_batch_size=20,\n",
    "    per_device_eval_batch_size=20,\n",
    "    num_train_epochs=3,\n",
    "    weight_decay=0.002,\n",
    "    load_best_model_at_end=True,\n",
    "    metric_for_best_model='accuracy',\n",
    "    save_strategy='epoch',\n",
    ")\n",
    "\n",
    "trainer = Trainer(\n",
    "    model=model,\n",
    "    args=training_args,\n",
    "    train_dataset=tokenized_datasets['train'],\n",
    "    eval_dataset=tokenized_datasets['validation'],\n",
    "    compute_metrics=compute_metrics,\n",
    ")"
   ]
  },
  {
   "cell_type": "code",
   "execution_count": 12,
   "metadata": {},
   "outputs": [
    {
     "data": {
      "application/vnd.jupyter.widget-view+json": {
       "model_id": "77963021f16e4e66976410cdbbf1034a",
       "version_major": 2,
       "version_minor": 0
      },
      "text/plain": [
       "  0%|          | 0/4413 [00:00<?, ?it/s]"
      ]
     },
     "metadata": {},
     "output_type": "display_data"
    },
    {
     "name": "stdout",
     "output_type": "stream",
     "text": [
      "{'loss': 0.9852, 'grad_norm': 0.2887098789215088, 'learning_rate': 0.00017733967822343078, 'epoch': 0.34}\n",
      "{'loss': 0.9715, 'grad_norm': 0.4458673298358917, 'learning_rate': 0.00015467935644686154, 'epoch': 0.68}\n"
     ]
    },
    {
     "data": {
      "application/vnd.jupyter.widget-view+json": {
       "model_id": "d5dd8291621943cb8aec3db16251e2a4",
       "version_major": 2,
       "version_minor": 0
      },
      "text/plain": [
       "  0%|          | 0/184 [00:00<?, ?it/s]"
      ]
     },
     "metadata": {},
     "output_type": "display_data"
    },
    {
     "name": "stderr",
     "output_type": "stream",
     "text": [
      "/Library/Frameworks/Python.framework/Versions/3.11/lib/python3.11/site-packages/sklearn/metrics/_classification.py:1531: UndefinedMetricWarning: Precision is ill-defined and being set to 0.0 in labels with no predicted samples. Use `zero_division` parameter to control this behavior.\n",
      "  _warn_prf(average, modifier, f\"{metric.capitalize()} is\", len(result))\n"
     ]
    },
    {
     "name": "stdout",
     "output_type": "stream",
     "text": [
      "{'eval_loss': 0.9758433699607849, 'eval_accuracy': 0.5707290533188248, 'eval_precision': 0.32573165230220197, 'eval_recall': 0.5707290533188248, 'eval_f1': 0.41475218353408194, 'eval_runtime': 28.7122, 'eval_samples_per_second': 128.029, 'eval_steps_per_second': 6.408, 'epoch': 1.0}\n",
      "{'loss': 0.9741, 'grad_norm': 1.0513510704040527, 'learning_rate': 0.00013201903467029234, 'epoch': 1.02}\n",
      "{'loss': 0.9697, 'grad_norm': 0.47837257385253906, 'learning_rate': 0.0001093587128937231, 'epoch': 1.36}\n",
      "{'loss': 0.9776, 'grad_norm': 0.5906356573104858, 'learning_rate': 8.669839111715387e-05, 'epoch': 1.7}\n"
     ]
    },
    {
     "data": {
      "application/vnd.jupyter.widget-view+json": {
       "model_id": "145f057deafb44c0a63f864c86108e5f",
       "version_major": 2,
       "version_minor": 0
      },
      "text/plain": [
       "  0%|          | 0/184 [00:00<?, ?it/s]"
      ]
     },
     "metadata": {},
     "output_type": "display_data"
    },
    {
     "name": "stderr",
     "output_type": "stream",
     "text": [
      "/Library/Frameworks/Python.framework/Versions/3.11/lib/python3.11/site-packages/sklearn/metrics/_classification.py:1531: UndefinedMetricWarning: Precision is ill-defined and being set to 0.0 in labels with no predicted samples. Use `zero_division` parameter to control this behavior.\n",
      "  _warn_prf(average, modifier, f\"{metric.capitalize()} is\", len(result))\n"
     ]
    },
    {
     "name": "stdout",
     "output_type": "stream",
     "text": [
      "{'eval_loss': 0.9869568347930908, 'eval_accuracy': 0.5707290533188248, 'eval_precision': 0.32573165230220197, 'eval_recall': 0.5707290533188248, 'eval_f1': 0.41475218353408194, 'eval_runtime': 28.784, 'eval_samples_per_second': 127.71, 'eval_steps_per_second': 6.392, 'epoch': 2.0}\n",
      "{'loss': 0.9684, 'grad_norm': 0.932569682598114, 'learning_rate': 6.403806934058464e-05, 'epoch': 2.04}\n",
      "{'loss': 0.9713, 'grad_norm': 0.9564648270606995, 'learning_rate': 4.137774756401541e-05, 'epoch': 2.38}\n",
      "{'loss': 0.9634, 'grad_norm': 0.4081868827342987, 'learning_rate': 1.871742578744618e-05, 'epoch': 2.72}\n"
     ]
    },
    {
     "data": {
      "application/vnd.jupyter.widget-view+json": {
       "model_id": "6e1662ef64b44151a2732022b1515ee1",
       "version_major": 2,
       "version_minor": 0
      },
      "text/plain": [
       "  0%|          | 0/184 [00:00<?, ?it/s]"
      ]
     },
     "metadata": {},
     "output_type": "display_data"
    },
    {
     "name": "stderr",
     "output_type": "stream",
     "text": [
      "/Library/Frameworks/Python.framework/Versions/3.11/lib/python3.11/site-packages/sklearn/metrics/_classification.py:1531: UndefinedMetricWarning: Precision is ill-defined and being set to 0.0 in labels with no predicted samples. Use `zero_division` parameter to control this behavior.\n",
      "  _warn_prf(average, modifier, f\"{metric.capitalize()} is\", len(result))\n"
     ]
    },
    {
     "name": "stdout",
     "output_type": "stream",
     "text": [
      "{'eval_loss': 0.9859170913696289, 'eval_accuracy': 0.5707290533188248, 'eval_precision': 0.32573165230220197, 'eval_recall': 0.5707290533188248, 'eval_f1': 0.41475218353408194, 'eval_runtime': 28.4549, 'eval_samples_per_second': 129.187, 'eval_steps_per_second': 6.466, 'epoch': 3.0}\n",
      "{'train_runtime': 2624.498, 'train_samples_per_second': 33.62, 'train_steps_per_second': 1.681, 'train_loss': 0.9727668546101362, 'epoch': 3.0}\n"
     ]
    },
    {
     "data": {
      "text/plain": [
       "TrainOutput(global_step=4413, training_loss=0.9727668546101362, metrics={'train_runtime': 2624.498, 'train_samples_per_second': 33.62, 'train_steps_per_second': 1.681, 'total_flos': 5804018881661952.0, 'train_loss': 0.9727668546101362, 'epoch': 3.0})"
      ]
     },
     "execution_count": 12,
     "metadata": {},
     "output_type": "execute_result"
    }
   ],
   "source": [
    "trainer.train()"
   ]
  },
  {
   "cell_type": "code",
   "execution_count": 13,
   "metadata": {},
   "outputs": [
    {
     "data": {
      "application/vnd.jupyter.widget-view+json": {
       "model_id": "c190624c5422442a91ae9121da9ef4a5",
       "version_major": 2,
       "version_minor": 0
      },
      "text/plain": [
       "  0%|          | 0/184 [00:00<?, ?it/s]"
      ]
     },
     "metadata": {},
     "output_type": "display_data"
    },
    {
     "name": "stdout",
     "output_type": "stream",
     "text": [
      "{'eval_loss': 0.9759836792945862, 'eval_accuracy': 0.5705738373674191, 'eval_precision': 0.325554503888182, 'eval_recall': 0.5705738373674191, 'eval_f1': 0.4145675881547516, 'eval_runtime': 28.6893, 'eval_samples_per_second': 128.166, 'eval_steps_per_second': 6.414, 'epoch': 3.0}\n"
     ]
    },
    {
     "name": "stderr",
     "output_type": "stream",
     "text": [
      "/Library/Frameworks/Python.framework/Versions/3.11/lib/python3.11/site-packages/sklearn/metrics/_classification.py:1531: UndefinedMetricWarning: Precision is ill-defined and being set to 0.0 in labels with no predicted samples. Use `zero_division` parameter to control this behavior.\n",
      "  _warn_prf(average, modifier, f\"{metric.capitalize()} is\", len(result))\n"
     ]
    }
   ],
   "source": [
    "results = trainer.evaluate(tokenized_datasets['test'])\n",
    "print(results)"
   ]
  },
  {
   "cell_type": "code",
   "execution_count": 14,
   "metadata": {},
   "outputs": [
    {
     "data": {
      "application/vnd.jupyter.widget-view+json": {
       "model_id": "693ccac60a534a16b7d0d5eab711b841",
       "version_major": 2,
       "version_minor": 0
      },
      "text/plain": [
       "  0%|          | 0/184 [00:00<?, ?it/s]"
      ]
     },
     "metadata": {},
     "output_type": "display_data"
    },
    {
     "name": "stderr",
     "output_type": "stream",
     "text": [
      "/Library/Frameworks/Python.framework/Versions/3.11/lib/python3.11/site-packages/sklearn/metrics/_classification.py:1531: UndefinedMetricWarning: Precision is ill-defined and being set to 0.0 in labels with no predicted samples. Use `zero_division` parameter to control this behavior.\n",
      "  _warn_prf(average, modifier, f\"{metric.capitalize()} is\", len(result))\n"
     ]
    },
    {
     "data": {
      "image/png": "[encoded data removed]",
      "text/plain": [
       "<Figure size 800x600 with 2 Axes>"
      ]
     },
     "metadata": {},
     "output_type": "display_data"
    },
    {
     "name": "stdout",
     "output_type": "stream",
     "text": [
      "Classification Report:\n",
      "\n",
      "               precision    recall  f1-score   support\n",
      "\n",
      "    Effective       0.57      1.00      0.73      2098\n",
      "     Adequate       0.00      0.00      0.00       933\n",
      "Not Effective       0.00      0.00      0.00       646\n",
      "\n",
      "     accuracy                           0.57      3677\n",
      "    macro avg       0.19      0.33      0.24      3677\n",
      " weighted avg       0.33      0.57      0.41      3677\n",
      "\n"
     ]
    },
    {
     "name": "stderr",
     "output_type": "stream",
     "text": [
      "/Library/Frameworks/Python.framework/Versions/3.11/lib/python3.11/site-packages/sklearn/metrics/_classification.py:1531: UndefinedMetricWarning: Precision is ill-defined and being set to 0.0 in labels with no predicted samples. Use `zero_division` parameter to control this behavior.\n",
      "  _warn_prf(average, modifier, f\"{metric.capitalize()} is\", len(result))\n",
      "/Library/Frameworks/Python.framework/Versions/3.11/lib/python3.11/site-packages/sklearn/metrics/_classification.py:1531: UndefinedMetricWarning: Precision is ill-defined and being set to 0.0 in labels with no predicted samples. Use `zero_division` parameter to control this behavior.\n",
      "  _warn_prf(average, modifier, f\"{metric.capitalize()} is\", len(result))\n",
      "/Library/Frameworks/Python.framework/Versions/3.11/lib/python3.11/site-packages/sklearn/metrics/_classification.py:1531: UndefinedMetricWarning: Precision is ill-defined and being set to 0.0 in labels with no predicted samples. Use `zero_division` parameter to control this behavior.\n",
      "  _warn_prf(average, modifier, f\"{metric.capitalize()} is\", len(result))\n"
     ]
    },
    {
     "data": {
      "image/png": "[encoded data removed]",
      "text/plain": [
       "<Figure size 800x600 with 1 Axes>"
      ]
     },
     "metadata": {},
     "output_type": "display_data"
    },
    {
     "data": {
      "image/png": "[encoded data removed]",
      "text/plain": [
       "<Figure size 1000x600 with 1 Axes>"
      ]
     },
     "metadata": {},
     "output_type": "display_data"
    }
   ],
   "source": [
    "import numpy as np\n",
    "import matplotlib.pyplot as plt\n",
    "import seaborn as sns\n",
    "from sklearn.metrics import confusion_matrix, classification_report\n",
    "\n",
    "# 1. Generate Predictions on Test Set\n",
    "predictions = trainer.predict(tokenized_datasets['test'])\n",
    "predicted_labels = np.argmax(predictions.predictions, axis=1)\n",
    "true_labels = predictions.label_ids\n",
    "\n",
    "# 2. Define Label Mapping\n",
    "id_to_label = {0: \"Effective\", 1: \"Adequate\", 2: \"Not Effective\"}\n",
    "predicted_labels_str = [id_to_label[label] for label in predicted_labels]\n",
    "true_labels_str = [id_to_label[label] for label in true_labels]\n",
    "\n",
    "# 3. Create Confusion Matrix\n",
    "cm = confusion_matrix(true_labels_str, predicted_labels_str, labels=[\"Effective\", \"Adequate\", \"Not Effective\"])\n",
    "\n",
    "# 4. Plot Confusion Matrix\n",
    "plt.figure(figsize=(8,6))\n",
    "sns.heatmap(cm, annot=True, fmt='d', cmap='Blues', \n",
    "            xticklabels=[\"Effective\", \"Adequate\", \"Not Effective\"], \n",
    "            yticklabels=[\"Effective\", \"Adequate\", \"Not Effective\"])\n",
    "plt.ylabel('True Label')\n",
    "plt.xlabel('Predicted Label')\n",
    "plt.title('Confusion Matrix')\n",
    "plt.show()\n",
    "\n",
    "# 5. Print Classification Report\n",
    "print(\"Classification Report:\\n\")\n",
    "print(classification_report(true_labels_str, predicted_labels_str, target_names=[\"Effective\", \"Adequate\", \"Not Effective\"]))\n",
    "\n",
    "# 6. Plot Accuracy Over Epochs\n",
    "log_history = trainer.state.log_history\n",
    "epochs = []\n",
    "accuracies = []\n",
    "\n",
    "for log in log_history:\n",
    "    if 'eval_accuracy' in log:\n",
    "        epochs.append(log['epoch'])\n",
    "        accuracies.append(log['eval_accuracy'])\n",
    "\n",
    "plt.figure(figsize=(8,6))\n",
    "plt.plot(epochs, accuracies, marker='o', linestyle='-', color='b')\n",
    "plt.xlabel('Epoch')\n",
    "plt.ylabel('Validation Accuracy')\n",
    "plt.title('Validation Accuracy Over Epochs')\n",
    "plt.xticks(epochs)\n",
    "plt.ylim(0,1)\n",
    "plt.grid(True)\n",
    "plt.show()\n",
    "\n",
    "# 7. (Optional) Plot Loss Over Epochs\n",
    "train_losses = []\n",
    "eval_losses = []\n",
    "epochs_loss = []\n",
    "\n",
    "for log in log_history:\n",
    "    if 'loss' in log and 'epoch' in log:\n",
    "        train_losses.append(log['loss'])\n",
    "        epochs_loss.append(log['epoch'])\n",
    "    if 'eval_loss' in log:\n",
    "        eval_losses.append(log['eval_loss'])\n",
    "\n",
    "plt.figure(figsize=(10,6))\n",
    "plt.plot(epochs_loss, train_losses, label='Training Loss', marker='o')\n",
    "plt.plot(epochs, eval_losses, label='Validation Loss', marker='s')\n",
    "plt.xlabel('Epoch')\n",
    "plt.ylabel('Loss')\n",
    "plt.title('Training and Validation Loss Over Epochs')\n",
    "plt.xticks(range(1, len(epochs_loss)+1))\n",
    "plt.legend()\n",
    "plt.grid(True)\n",
    "plt.show()"
   ]
  }
 ],
 "metadata": {
  "kernelspec": {
   "display_name": "Python 3",
   "language": "python",
   "name": "python3"
  },
  "language_info": {
   "codemirror_mode": {
    "name": "ipython",
    "version": 3
   },
   "file_extension": ".py",
   "mimetype": "text/x-python",
   "name": "python",
   "nbconvert_exporter": "python",
   "pygments_lexer": "ipython3",
   "version": "3.11.9"
  }
 },
 "nbformat": 4,
 "nbformat_minor": 2
}
