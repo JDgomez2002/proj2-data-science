{
 "cells": [
  {
   "cell_type": "code",
   "execution_count": 13,
   "metadata": {},
   "outputs": [],
   "source": [
    "import pandas as pd\n",
    "import seaborn as sns\n",
    "import matplotlib.pyplot as plt\n",
    "import seaborn as sns\n",
    "\n",
    "from transformers import AutoTokenizer, pipeline\n",
    "from sklearn.preprocessing import OneHotEncoder\n",
    "from datasets import load_dataset"
   ]
  },
  {
   "cell_type": "code",
   "execution_count": 14,
   "metadata": {},
   "outputs": [],
   "source": [
    "train = pd.read_csv('data/train.csv')"
   ]
  },
  {
   "cell_type": "code",
   "execution_count": 15,
   "metadata": {},
   "outputs": [
    {
     "name": "stdout",
     "output_type": "stream",
     "text": [
      "Original Dataset Class Distribution:\n",
      "discourse_effectiveness\n",
      "Adequate       0.570570\n",
      "Effective      0.253665\n",
      "Ineffective    0.175765\n",
      "Name: proportion, dtype: float64\n",
      "\n",
      "Training Set Class Distribution:\n",
      "discourse_effectiveness\n",
      "Adequate       0.570549\n",
      "Effective      0.253672\n",
      "Ineffective    0.175779\n",
      "Name: proportion, dtype: float64\n",
      "\n",
      "Validation Set Class Distribution:\n",
      "discourse_effectiveness\n",
      "Adequate       0.570729\n",
      "Effective      0.253536\n",
      "Ineffective    0.175734\n",
      "Name: proportion, dtype: float64\n",
      "\n",
      "Test Set Class Distribution:\n",
      "discourse_effectiveness\n",
      "Adequate       0.570574\n",
      "Effective      0.253739\n",
      "Ineffective    0.175687\n",
      "Name: proportion, dtype: float64\n",
      "\n",
      "Data successfully split and saved to CSV files.\n"
     ]
    }
   ],
   "source": [
    "import pandas as pd\n",
    "from sklearn.model_selection import train_test_split\n",
    "\n",
    "# Step 1: Load the dataset\n",
    "df = pd.read_csv('data/train.csv')\n",
    "\n",
    "# Step 2: Define the label column\n",
    "label_column = 'discourse_effectiveness'  # Replace with your actual label column name\n",
    "\n",
    "# Optional: Inspect class distribution\n",
    "print(\"Original Dataset Class Distribution:\")\n",
    "print(df[label_column].value_counts(normalize=True))\n",
    "\n",
    "# Step 3: First split - Train and Temp\n",
    "train_df, temp_df = train_test_split(\n",
    "    df,\n",
    "    test_size=0.2,  # 20% to temp\n",
    "    random_state=42,\n",
    "    stratify=df[label_column]\n",
    ")\n",
    "\n",
    "# Step 4: Second split - Validation and Test\n",
    "validation_df, test_df = train_test_split(\n",
    "    temp_df,\n",
    "    test_size=0.5,  # 10% each\n",
    "    random_state=42,\n",
    "    stratify=temp_df[label_column]\n",
    ")\n",
    "\n",
    "# Step 5: Save the splits to CSV files\n",
    "train_df.to_csv('train.csv', index=False)\n",
    "validation_df.to_csv('validation.csv', index=False)\n",
    "test_df.to_csv('test.csv', index=False)\n",
    "\n",
    "# Step 6: Verify the splits\n",
    "print(\"\\nTraining Set Class Distribution:\")\n",
    "print(train_df[label_column].value_counts(normalize=True))\n",
    "\n",
    "print(\"\\nValidation Set Class Distribution:\")\n",
    "print(validation_df[label_column].value_counts(normalize=True))\n",
    "\n",
    "print(\"\\nTest Set Class Distribution:\")\n",
    "print(test_df[label_column].value_counts(normalize=True))\n",
    "\n",
    "print(\"\\nData successfully split and saved to CSV files.\")\n"
   ]
  },
  {
   "cell_type": "code",
   "execution_count": 16,
   "metadata": {},
   "outputs": [
    {
     "data": {
      "application/vnd.jupyter.widget-view+json": {
       "model_id": "bdf30b308abe45cea76c6c89754fec2b",
       "version_major": 2,
       "version_minor": 0
      },
      "text/plain": [
       "Generating train split: 0 examples [00:00, ? examples/s]"
      ]
     },
     "metadata": {},
     "output_type": "display_data"
    },
    {
     "data": {
      "application/vnd.jupyter.widget-view+json": {
       "model_id": "66326b1260384511b3ed39c7dda5a229",
       "version_major": 2,
       "version_minor": 0
      },
      "text/plain": [
       "Generating validation split: 0 examples [00:00, ? examples/s]"
      ]
     },
     "metadata": {},
     "output_type": "display_data"
    },
    {
     "data": {
      "application/vnd.jupyter.widget-view+json": {
       "model_id": "83278c4eddd441bc9fb93981c8f72d1f",
       "version_major": 2,
       "version_minor": 0
      },
      "text/plain": [
       "Generating test split: 0 examples [00:00, ? examples/s]"
      ]
     },
     "metadata": {},
     "output_type": "display_data"
    }
   ],
   "source": [
    "dataset = load_dataset('csv', data_files={'train': 'train.csv',\n",
    "                                         'validation': 'validation.csv',\n",
    "                                         'test': 'test.csv'})"
   ]
  },
  {
   "cell_type": "code",
   "execution_count": 17,
   "metadata": {},
   "outputs": [
    {
     "data": {
      "application/vnd.jupyter.widget-view+json": {
       "model_id": "0b00d89d07854f679ab97372713727cf",
       "version_major": 2,
       "version_minor": 0
      },
      "text/plain": [
       "Map:   0%|          | 0/29412 [00:00<?, ? examples/s]"
      ]
     },
     "metadata": {},
     "output_type": "display_data"
    },
    {
     "data": {
      "application/vnd.jupyter.widget-view+json": {
       "model_id": "1f4ca43b556540cda3f49565052914ec",
       "version_major": 2,
       "version_minor": 0
      },
      "text/plain": [
       "Map:   0%|          | 0/3676 [00:00<?, ? examples/s]"
      ]
     },
     "metadata": {},
     "output_type": "display_data"
    },
    {
     "data": {
      "application/vnd.jupyter.widget-view+json": {
       "model_id": "7acdf3d94fc943b7912291bae572e8cc",
       "version_major": 2,
       "version_minor": 0
      },
      "text/plain": [
       "Map:   0%|          | 0/3677 [00:00<?, ? examples/s]"
      ]
     },
     "metadata": {},
     "output_type": "display_data"
    }
   ],
   "source": [
    "label_mapping = {\n",
    "    \"Effective\": 0,\n",
    "    \"Adequate\": 1,\n",
    "    \"Ineffective\": 2\n",
    "}\n",
    "\n",
    "def encode_labels(example):\n",
    "    example['labels'] = label_mapping[example['discourse_effectiveness']]\n",
    "    return example\n",
    "\n",
    "dataset = dataset.map(encode_labels)"
   ]
  },
  {
   "cell_type": "code",
   "execution_count": 18,
   "metadata": {},
   "outputs": [],
   "source": [
    "model_name = \"google/electra-base-discriminator\"\n",
    "tokenizer = AutoTokenizer.from_pretrained(model_name)"
   ]
  },
  {
   "cell_type": "code",
   "execution_count": 19,
   "metadata": {},
   "outputs": [
    {
     "data": {
      "application/vnd.jupyter.widget-view+json": {
       "model_id": "2a3d07094eab4b54a0682be78f9ce77e",
       "version_major": 2,
       "version_minor": 0
      },
      "text/plain": [
       "Map:   0%|          | 0/29412 [00:00<?, ? examples/s]"
      ]
     },
     "metadata": {},
     "output_type": "display_data"
    },
    {
     "data": {
      "application/vnd.jupyter.widget-view+json": {
       "model_id": "f5dae60c9e694ef4a9b5c08a4c85640a",
       "version_major": 2,
       "version_minor": 0
      },
      "text/plain": [
       "Map:   0%|          | 0/3676 [00:00<?, ? examples/s]"
      ]
     },
     "metadata": {},
     "output_type": "display_data"
    },
    {
     "data": {
      "application/vnd.jupyter.widget-view+json": {
       "model_id": "82ace414c34144bca4e1c0b837b0e0e3",
       "version_major": 2,
       "version_minor": 0
      },
      "text/plain": [
       "Map:   0%|          | 0/3677 [00:00<?, ? examples/s]"
      ]
     },
     "metadata": {},
     "output_type": "display_data"
    }
   ],
   "source": [
    "def tokenize_function(example):\n",
    "    return tokenizer(example['discourse_text'], padding='max_length', truncation=True, max_length=128)\n",
    "\n",
    "tokenized_datasets = dataset.map(tokenize_function, batched=True)"
   ]
  },
  {
   "cell_type": "code",
   "execution_count": 20,
   "metadata": {},
   "outputs": [],
   "source": [
    "tokenized_datasets = tokenized_datasets.remove_columns(['discourse_id', 'essay_id', 'discourse_text', 'discourse_effectiveness'])  # Remove unnecessary columns\n",
    "tokenized_datasets.set_format('torch')"
   ]
  },
  {
   "cell_type": "code",
   "execution_count": 21,
   "metadata": {},
   "outputs": [],
   "source": [
    "from torch.utils.data import DataLoader\n",
    "\n",
    "train_dataloader = DataLoader(tokenized_datasets['train'], shuffle=True, batch_size=16)\n",
    "eval_dataloader = DataLoader(tokenized_datasets['validation'], batch_size=16)"
   ]
  },
  {
   "cell_type": "code",
   "execution_count": 22,
   "metadata": {},
   "outputs": [
    {
     "name": "stderr",
     "output_type": "stream",
     "text": [
      "Some weights of ElectraForSequenceClassification were not initialized from the model checkpoint at google/electra-base-discriminator and are newly initialized: ['classifier.dense.bias', 'classifier.dense.weight', 'classifier.out_proj.bias', 'classifier.out_proj.weight']\n",
      "You should probably TRAIN this model on a down-stream task to be able to use it for predictions and inference.\n"
     ]
    }
   ],
   "source": [
    "from transformers import AutoModelForSequenceClassification\n",
    "\n",
    "num_labels = 3  # Effective, Adequate, Not Effective\n",
    "model = AutoModelForSequenceClassification.from_pretrained(model_name, num_labels=num_labels)"
   ]
  },
  {
   "cell_type": "code",
   "execution_count": 23,
   "metadata": {},
   "outputs": [
    {
     "name": "stderr",
     "output_type": "stream",
     "text": [
      "/Library/Frameworks/Python.framework/Versions/3.11/lib/python3.11/site-packages/transformers/training_args.py:1545: FutureWarning: `evaluation_strategy` is deprecated and will be removed in version 4.46 of 🤗 Transformers. Use `eval_strategy` instead\n",
      "  warnings.warn(\n"
     ]
    }
   ],
   "source": [
    "from transformers import Trainer, TrainingArguments\n",
    "import numpy as np\n",
    "from sklearn.metrics import accuracy_score, precision_recall_fscore_support\n",
    "\n",
    "def compute_metrics(eval_pred):\n",
    "    logits, labels = eval_pred\n",
    "    predictions = np.argmax(logits, axis=-1)\n",
    "    accuracy = accuracy_score(labels, predictions)\n",
    "    precision, recall, f1, _ = precision_recall_fscore_support(labels, predictions, average='weighted')\n",
    "    return {\n",
    "        'accuracy': accuracy,\n",
    "        'precision': precision,\n",
    "        'recall': recall,\n",
    "        'f1': f1,\n",
    "    }\n",
    "\n",
    "training_args = TrainingArguments(\n",
    "    output_dir='./results',\n",
    "    evaluation_strategy=\"epoch\",\n",
    "    learning_rate=2e-5,\n",
    "    per_device_train_batch_size=16,\n",
    "    per_device_eval_batch_size=16,\n",
    "    num_train_epochs=4,\n",
    "    weight_decay=0.01,\n",
    ")\n",
    "\n",
    "trainer = Trainer(\n",
    "    model=model,\n",
    "    args=training_args,\n",
    "    train_dataset=tokenized_datasets['train'],\n",
    "    eval_dataset=tokenized_datasets['validation'],\n",
    "    compute_metrics=compute_metrics,\n",
    ")"
   ]
  },
  {
   "cell_type": "code",
   "execution_count": 24,
   "metadata": {},
   "outputs": [
    {
     "data": {
      "application/vnd.jupyter.widget-view+json": {
       "model_id": "6ea72e0b47e2432a90ac188b0c19f674",
       "version_major": 2,
       "version_minor": 0
      },
      "text/plain": [
       "  0%|          | 0/7356 [00:00<?, ?it/s]"
      ]
     },
     "metadata": {},
     "output_type": "display_data"
    },
    {
     "name": "stdout",
     "output_type": "stream",
     "text": [
      "{'loss': 0.8322, 'grad_norm': 5.994781017303467, 'learning_rate': 1.864056552474171e-05, 'epoch': 0.27}\n",
      "{'loss': 0.7786, 'grad_norm': 3.134608268737793, 'learning_rate': 1.728113104948342e-05, 'epoch': 0.54}\n",
      "{'loss': 0.7565, 'grad_norm': 3.920692205429077, 'learning_rate': 1.5921696574225122e-05, 'epoch': 0.82}\n"
     ]
    },
    {
     "data": {
      "application/vnd.jupyter.widget-view+json": {
       "model_id": "45c30655c1ed4a8a98d2d7a03278ce43",
       "version_major": 2,
       "version_minor": 0
      },
      "text/plain": [
       "  0%|          | 0/230 [00:00<?, ?it/s]"
      ]
     },
     "metadata": {},
     "output_type": "display_data"
    },
    {
     "name": "stdout",
     "output_type": "stream",
     "text": [
      "{'eval_loss': 0.7365413308143616, 'eval_accuracy': 0.6673014145810664, 'eval_precision': 0.6849732894552873, 'eval_recall': 0.6673014145810664, 'eval_f1': 0.6212415376216386, 'eval_runtime': 28.4389, 'eval_samples_per_second': 129.259, 'eval_steps_per_second': 8.088, 'epoch': 1.0}\n",
      "{'loss': 0.7225, 'grad_norm': 5.27198600769043, 'learning_rate': 1.456226209896683e-05, 'epoch': 1.09}\n",
      "{'loss': 0.6509, 'grad_norm': 7.424563407897949, 'learning_rate': 1.3202827623708539e-05, 'epoch': 1.36}\n",
      "{'loss': 0.6555, 'grad_norm': 3.2625443935394287, 'learning_rate': 1.1843393148450246e-05, 'epoch': 1.63}\n",
      "{'loss': 0.6474, 'grad_norm': 7.548019886016846, 'learning_rate': 1.0483958673191954e-05, 'epoch': 1.9}\n"
     ]
    },
    {
     "data": {
      "application/vnd.jupyter.widget-view+json": {
       "model_id": "508da2addcba43d5b19e538903bec5ed",
       "version_major": 2,
       "version_minor": 0
      },
      "text/plain": [
       "  0%|          | 0/230 [00:00<?, ?it/s]"
      ]
     },
     "metadata": {},
     "output_type": "display_data"
    },
    {
     "name": "stdout",
     "output_type": "stream",
     "text": [
      "{'eval_loss': 0.740373969078064, 'eval_accuracy': 0.6811751904243744, 'eval_precision': 0.6816488827890452, 'eval_recall': 0.6811751904243744, 'eval_f1': 0.6508559060803725, 'eval_runtime': 28.2667, 'eval_samples_per_second': 130.047, 'eval_steps_per_second': 8.137, 'epoch': 2.0}\n",
      "{'loss': 0.545, 'grad_norm': 9.529881477355957, 'learning_rate': 9.12452419793366e-06, 'epoch': 2.18}\n",
      "{'loss': 0.5104, 'grad_norm': 10.667677879333496, 'learning_rate': 7.765089722675368e-06, 'epoch': 2.45}\n",
      "{'loss': 0.5058, 'grad_norm': 6.845552444458008, 'learning_rate': 6.405655247417075e-06, 'epoch': 2.72}\n",
      "{'loss': 0.5123, 'grad_norm': 10.714924812316895, 'learning_rate': 5.046220772158782e-06, 'epoch': 2.99}\n"
     ]
    },
    {
     "data": {
      "application/vnd.jupyter.widget-view+json": {
       "model_id": "8e0d18ea076b49f6bfd9049fe3c229a1",
       "version_major": 2,
       "version_minor": 0
      },
      "text/plain": [
       "  0%|          | 0/230 [00:00<?, ?it/s]"
      ]
     },
     "metadata": {},
     "output_type": "display_data"
    },
    {
     "name": "stdout",
     "output_type": "stream",
     "text": [
      "{'eval_loss': 0.8620838522911072, 'eval_accuracy': 0.6531556039173014, 'eval_precision': 0.6508464232444426, 'eval_recall': 0.6531556039173014, 'eval_f1': 0.6422086445858991, 'eval_runtime': 28.3151, 'eval_samples_per_second': 129.825, 'eval_steps_per_second': 8.123, 'epoch': 3.0}\n",
      "{'loss': 0.3933, 'grad_norm': 10.01401138305664, 'learning_rate': 3.68678629690049e-06, 'epoch': 3.26}\n",
      "{'loss': 0.3705, 'grad_norm': 19.744951248168945, 'learning_rate': 2.327351821642197e-06, 'epoch': 3.53}\n",
      "{'loss': 0.3764, 'grad_norm': 15.006087303161621, 'learning_rate': 9.679173463839045e-07, 'epoch': 3.81}\n"
     ]
    },
    {
     "data": {
      "application/vnd.jupyter.widget-view+json": {
       "model_id": "3d7d81b1f0be4508b0e96024f9c33a88",
       "version_major": 2,
       "version_minor": 0
      },
      "text/plain": [
       "  0%|          | 0/230 [00:00<?, ?it/s]"
      ]
     },
     "metadata": {},
     "output_type": "display_data"
    },
    {
     "name": "stdout",
     "output_type": "stream",
     "text": [
      "{'eval_loss': 0.9921711683273315, 'eval_accuracy': 0.6640369967355821, 'eval_precision': 0.6574140547230408, 'eval_recall': 0.6640369967355821, 'eval_f1': 0.6496207408279846, 'eval_runtime': 28.2886, 'eval_samples_per_second': 129.946, 'eval_steps_per_second': 8.13, 'epoch': 4.0}\n",
      "{'train_runtime': 3557.1796, 'train_samples_per_second': 33.073, 'train_steps_per_second': 2.068, 'train_loss': 0.5797724244126553, 'epoch': 4.0}\n"
     ]
    },
    {
     "data": {
      "text/plain": [
       "TrainOutput(global_step=7356, training_loss=0.5797724244126553, metrics={'train_runtime': 3557.1796, 'train_samples_per_second': 33.073, 'train_steps_per_second': 2.068, 'total_flos': 7738691842215936.0, 'train_loss': 0.5797724244126553, 'epoch': 4.0})"
      ]
     },
     "execution_count": 24,
     "metadata": {},
     "output_type": "execute_result"
    }
   ],
   "source": [
    "trainer.train()"
   ]
  },
  {
   "cell_type": "code",
   "execution_count": 25,
   "metadata": {},
   "outputs": [
    {
     "data": {
      "application/vnd.jupyter.widget-view+json": {
       "model_id": "6f3057a1321a4dd6b82140d2db89cc6a",
       "version_major": 2,
       "version_minor": 0
      },
      "text/plain": [
       "  0%|          | 0/230 [00:00<?, ?it/s]"
      ]
     },
     "metadata": {},
     "output_type": "display_data"
    },
    {
     "name": "stdout",
     "output_type": "stream",
     "text": [
      "{'eval_loss': 0.971185028553009, 'eval_accuracy': 0.6701115039434321, 'eval_precision': 0.661356630554658, 'eval_recall': 0.6701115039434321, 'eval_f1': 0.6570066457220365, 'eval_runtime': 28.2643, 'eval_samples_per_second': 130.093, 'eval_steps_per_second': 8.137, 'epoch': 4.0}\n"
     ]
    }
   ],
   "source": [
    "results = trainer.evaluate(tokenized_datasets['test'])\n",
    "print(results)"
   ]
  },
  {
   "cell_type": "code",
   "execution_count": 26,
   "metadata": {},
   "outputs": [
    {
     "data": {
      "application/vnd.jupyter.widget-view+json": {
       "model_id": "543702e84b9f4bf98c9a93aaaca2b6b2",
       "version_major": 2,
       "version_minor": 0
      },
      "text/plain": [
       "  0%|          | 0/230 [00:00<?, ?it/s]"
      ]
     },
     "metadata": {},
     "output_type": "display_data"
    },
    {
     "data": {
      "image/png": "[encoded data removed]",
      "text/plain": [
       "<Figure size 800x600 with 2 Axes>"
      ]
     },
     "metadata": {},
     "output_type": "display_data"
    },
    {
     "name": "stdout",
     "output_type": "stream",
     "text": [
      "Classification Report:\n",
      "\n",
      "               precision    recall  f1-score   support\n",
      "\n",
      "    Effective       0.71      0.75      0.73      2098\n",
      "     Adequate       0.62      0.76      0.69       933\n",
      "Not Effective       0.54      0.29      0.38       646\n",
      "\n",
      "     accuracy                           0.67      3677\n",
      "    macro avg       0.63      0.60      0.60      3677\n",
      " weighted avg       0.66      0.67      0.66      3677\n",
      "\n"
     ]
    },
    {
     "data": {
      "image/png": "[encoded data removed]",
      "text/plain": [
       "<Figure size 800x600 with 1 Axes>"
      ]
     },
     "metadata": {},
     "output_type": "display_data"
    },
    {
     "data": {
      "image/png": "[encoded data removed]",
      "text/plain": [
       "<Figure size 1000x600 with 1 Axes>"
      ]
     },
     "metadata": {},
     "output_type": "display_data"
    }
   ],
   "source": [
    "import numpy as np\n",
    "import matplotlib.pyplot as plt\n",
    "import seaborn as sns\n",
    "from sklearn.metrics import confusion_matrix, classification_report\n",
    "\n",
    "# 1. Generate Predictions on Test Set\n",
    "predictions = trainer.predict(tokenized_datasets['test'])\n",
    "predicted_labels = np.argmax(predictions.predictions, axis=1)\n",
    "true_labels = predictions.label_ids\n",
    "\n",
    "# 2. Define Label Mapping\n",
    "id_to_label = {0: \"Effective\", 1: \"Adequate\", 2: \"Not Effective\"}\n",
    "predicted_labels_str = [id_to_label[label] for label in predicted_labels]\n",
    "true_labels_str = [id_to_label[label] for label in true_labels]\n",
    "\n",
    "# 3. Create Confusion Matrix\n",
    "cm = confusion_matrix(true_labels_str, predicted_labels_str, labels=[\"Effective\", \"Adequate\", \"Not Effective\"])\n",
    "\n",
    "# 4. Plot Confusion Matrix\n",
    "plt.figure(figsize=(8,6))\n",
    "sns.heatmap(cm, annot=True, fmt='d', cmap='Blues', \n",
    "            xticklabels=[\"Effective\", \"Adequate\", \"Not Effective\"], \n",
    "            yticklabels=[\"Effective\", \"Adequate\", \"Not Effective\"])\n",
    "plt.ylabel('True Label')\n",
    "plt.xlabel('Predicted Label')\n",
    "plt.title('Confusion Matrix')\n",
    "plt.show()\n",
    "\n",
    "# 5. Print Classification Report\n",
    "print(\"Classification Report:\\n\")\n",
    "print(classification_report(true_labels_str, predicted_labels_str, target_names=[\"Effective\", \"Adequate\", \"Not Effective\"]))\n",
    "\n",
    "# 6. Plot Accuracy Over Epochs\n",
    "log_history = trainer.state.log_history\n",
    "epochs = []\n",
    "accuracies = []\n",
    "\n",
    "for log in log_history:\n",
    "    if 'eval_accuracy' in log:\n",
    "        epochs.append(log['epoch'])\n",
    "        accuracies.append(log['eval_accuracy'])\n",
    "\n",
    "plt.figure(figsize=(8,6))\n",
    "plt.plot(epochs, accuracies, marker='o', linestyle='-', color='b')\n",
    "plt.xlabel('Epoch')\n",
    "plt.ylabel('Validation Accuracy')\n",
    "plt.title('Validation Accuracy Over Epochs')\n",
    "plt.xticks(epochs)\n",
    "plt.ylim(0,1)\n",
    "plt.grid(True)\n",
    "plt.show()\n",
    "\n",
    "# 7. (Optional) Plot Loss Over Epochs\n",
    "train_losses = []\n",
    "eval_losses = []\n",
    "epochs_loss = []\n",
    "\n",
    "for log in log_history:\n",
    "    if 'loss' in log and 'epoch' in log:\n",
    "        train_losses.append(log['loss'])\n",
    "        epochs_loss.append(log['epoch'])\n",
    "    if 'eval_loss' in log:\n",
    "        eval_losses.append(log['eval_loss'])\n",
    "\n",
    "plt.figure(figsize=(10,6))\n",
    "plt.plot(epochs_loss, train_losses, label='Training Loss', marker='o')\n",
    "plt.plot(epochs, eval_losses, label='Validation Loss', marker='s')\n",
    "plt.xlabel('Epoch')\n",
    "plt.ylabel('Loss')\n",
    "plt.title('Training and Validation Loss Over Epochs')\n",
    "plt.xticks(range(1, len(epochs_loss)+1))\n",
    "plt.legend()\n",
    "plt.grid(True)\n",
    "plt.show()"
   ]
  }
 ],
 "metadata": {
  "kernelspec": {
   "display_name": "Python 3",
   "language": "python",
   "name": "python3"
  },
  "language_info": {
   "codemirror_mode": {
    "name": "ipython",
    "version": 3
   },
   "file_extension": ".py",
   "mimetype": "text/x-python",
   "name": "python",
   "nbconvert_exporter": "python",
   "pygments_lexer": "ipython3",
   "version": "3.11.9"
  }
 },
 "nbformat": 4,
 "nbformat_minor": 2
}
