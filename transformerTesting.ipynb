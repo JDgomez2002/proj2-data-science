{
 "cells": [
  {
   "cell_type": "code",
   "execution_count": 14,
   "metadata": {},
   "outputs": [],
   "source": [
    "import pandas as pd\n",
    "import seaborn as sns\n",
    "import matplotlib.pyplot as plt\n",
    "import seaborn as sns\n",
    "\n",
    "from transformers import AutoTokenizer, pipeline\n",
    "from sklearn.preprocessing import OneHotEncoder\n",
    "from datasets import load_dataset"
   ]
  },
  {
   "cell_type": "code",
   "execution_count": 15,
   "metadata": {},
   "outputs": [],
   "source": [
    "train = pd.read_csv('data/train.csv')"
   ]
  },
  {
   "cell_type": "code",
   "execution_count": 16,
   "metadata": {},
   "outputs": [
    {
     "name": "stdout",
     "output_type": "stream",
     "text": [
      "Original Dataset Class Distribution:\n",
      "discourse_effectiveness\n",
      "Adequate       0.570570\n",
      "Effective      0.253665\n",
      "Ineffective    0.175765\n",
      "Name: proportion, dtype: float64\n",
      "\n",
      "Training Set Class Distribution:\n",
      "discourse_effectiveness\n",
      "Adequate       0.570549\n",
      "Effective      0.253672\n",
      "Ineffective    0.175779\n",
      "Name: proportion, dtype: float64\n",
      "\n",
      "Validation Set Class Distribution:\n",
      "discourse_effectiveness\n",
      "Adequate       0.570729\n",
      "Effective      0.253536\n",
      "Ineffective    0.175734\n",
      "Name: proportion, dtype: float64\n",
      "\n",
      "Test Set Class Distribution:\n",
      "discourse_effectiveness\n",
      "Adequate       0.570574\n",
      "Effective      0.253739\n",
      "Ineffective    0.175687\n",
      "Name: proportion, dtype: float64\n",
      "\n",
      "Data successfully split and saved to CSV files.\n"
     ]
    }
   ],
   "source": [
    "import pandas as pd\n",
    "from sklearn.model_selection import train_test_split\n",
    "\n",
    "# Step 1: Load the dataset\n",
    "df = pd.read_csv('data/train.csv')\n",
    "\n",
    "# Step 2: Define the label column\n",
    "label_column = 'discourse_effectiveness'  # Replace with your actual label column name\n",
    "\n",
    "# Optional: Inspect class distribution\n",
    "print(\"Original Dataset Class Distribution:\")\n",
    "print(df[label_column].value_counts(normalize=True))\n",
    "\n",
    "# Step 3: First split - Train and Temp\n",
    "train_df, temp_df = train_test_split(\n",
    "    df,\n",
    "    test_size=0.2,  # 20% to temp\n",
    "    random_state=42,\n",
    "    stratify=df[label_column]\n",
    ")\n",
    "\n",
    "# Step 4: Second split - Validation and Test\n",
    "validation_df, test_df = train_test_split(\n",
    "    temp_df,\n",
    "    test_size=0.5,  # 10% each\n",
    "    random_state=42,\n",
    "    stratify=temp_df[label_column]\n",
    ")\n",
    "\n",
    "# Step 5: Save the splits to CSV files\n",
    "train_df.to_csv('train.csv', index=False)\n",
    "validation_df.to_csv('validation.csv', index=False)\n",
    "test_df.to_csv('test.csv', index=False)\n",
    "\n",
    "# Step 6: Verify the splits\n",
    "print(\"\\nTraining Set Class Distribution:\")\n",
    "print(train_df[label_column].value_counts(normalize=True))\n",
    "\n",
    "print(\"\\nValidation Set Class Distribution:\")\n",
    "print(validation_df[label_column].value_counts(normalize=True))\n",
    "\n",
    "print(\"\\nTest Set Class Distribution:\")\n",
    "print(test_df[label_column].value_counts(normalize=True))\n",
    "\n",
    "print(\"\\nData successfully split and saved to CSV files.\")\n"
   ]
  },
  {
   "cell_type": "code",
   "execution_count": 17,
   "metadata": {},
   "outputs": [
    {
     "data": {
      "application/vnd.jupyter.widget-view+json": {
       "model_id": "f1d686f75f9b4baca82efbd0252d1dd0",
       "version_major": 2,
       "version_minor": 0
      },
      "text/plain": [
       "Generating train split: 0 examples [00:00, ? examples/s]"
      ]
     },
     "metadata": {},
     "output_type": "display_data"
    },
    {
     "data": {
      "application/vnd.jupyter.widget-view+json": {
       "model_id": "5b6a0618c50c4a19b0ac3130ac96d085",
       "version_major": 2,
       "version_minor": 0
      },
      "text/plain": [
       "Generating validation split: 0 examples [00:00, ? examples/s]"
      ]
     },
     "metadata": {},
     "output_type": "display_data"
    },
    {
     "data": {
      "application/vnd.jupyter.widget-view+json": {
       "model_id": "59f123434d5649d9bafbd6cab65fc79c",
       "version_major": 2,
       "version_minor": 0
      },
      "text/plain": [
       "Generating test split: 0 examples [00:00, ? examples/s]"
      ]
     },
     "metadata": {},
     "output_type": "display_data"
    }
   ],
   "source": [
    "dataset = load_dataset('csv', data_files={'train': 'train.csv',\n",
    "                                         'validation': 'validation.csv',\n",
    "                                         'test': 'test.csv'})"
   ]
  },
  {
   "cell_type": "code",
   "execution_count": 18,
   "metadata": {},
   "outputs": [
    {
     "data": {
      "application/vnd.jupyter.widget-view+json": {
       "model_id": "bfe68dea5d99405d95539aafe76d9fc1",
       "version_major": 2,
       "version_minor": 0
      },
      "text/plain": [
       "Map:   0%|          | 0/29412 [00:00<?, ? examples/s]"
      ]
     },
     "metadata": {},
     "output_type": "display_data"
    },
    {
     "data": {
      "application/vnd.jupyter.widget-view+json": {
       "model_id": "326a8a4b608b4e69a1063ee6502659b0",
       "version_major": 2,
       "version_minor": 0
      },
      "text/plain": [
       "Map:   0%|          | 0/3676 [00:00<?, ? examples/s]"
      ]
     },
     "metadata": {},
     "output_type": "display_data"
    },
    {
     "data": {
      "application/vnd.jupyter.widget-view+json": {
       "model_id": "1ea50bc8b15847a3ba9e9f13f6c5d10f",
       "version_major": 2,
       "version_minor": 0
      },
      "text/plain": [
       "Map:   0%|          | 0/3677 [00:00<?, ? examples/s]"
      ]
     },
     "metadata": {},
     "output_type": "display_data"
    }
   ],
   "source": [
    "label_mapping = {\n",
    "    \"Effective\": 0,\n",
    "    \"Adequate\": 1,\n",
    "    \"Ineffective\": 2\n",
    "}\n",
    "\n",
    "def encode_labels(example):\n",
    "    example['labels'] = label_mapping[example['discourse_effectiveness']]\n",
    "    return example\n",
    "\n",
    "dataset = dataset.map(encode_labels)"
   ]
  },
  {
   "cell_type": "code",
   "execution_count": 19,
   "metadata": {},
   "outputs": [],
   "source": [
    "model_name = \"bert-base-uncased\"\n",
    "tokenizer = AutoTokenizer.from_pretrained(model_name)"
   ]
  },
  {
   "cell_type": "code",
   "execution_count": 20,
   "metadata": {},
   "outputs": [
    {
     "data": {
      "application/vnd.jupyter.widget-view+json": {
       "model_id": "ccf6b950d4aa4074a078002043c0003d",
       "version_major": 2,
       "version_minor": 0
      },
      "text/plain": [
       "Map:   0%|          | 0/29412 [00:00<?, ? examples/s]"
      ]
     },
     "metadata": {},
     "output_type": "display_data"
    },
    {
     "data": {
      "application/vnd.jupyter.widget-view+json": {
       "model_id": "460eff6289b04547831b06fd4d95e102",
       "version_major": 2,
       "version_minor": 0
      },
      "text/plain": [
       "Map:   0%|          | 0/3676 [00:00<?, ? examples/s]"
      ]
     },
     "metadata": {},
     "output_type": "display_data"
    },
    {
     "data": {
      "application/vnd.jupyter.widget-view+json": {
       "model_id": "2896b9e320894168b87612a6ebaf0195",
       "version_major": 2,
       "version_minor": 0
      },
      "text/plain": [
       "Map:   0%|          | 0/3677 [00:00<?, ? examples/s]"
      ]
     },
     "metadata": {},
     "output_type": "display_data"
    }
   ],
   "source": [
    "def tokenize_function(example):\n",
    "    return tokenizer(example['discourse_text'], padding='max_length', truncation=True, max_length=128)\n",
    "\n",
    "tokenized_datasets = dataset.map(tokenize_function, batched=True)"
   ]
  },
  {
   "cell_type": "code",
   "execution_count": 21,
   "metadata": {},
   "outputs": [],
   "source": [
    "tokenized_datasets = tokenized_datasets.remove_columns(['discourse_id', 'essay_id', 'discourse_text', 'discourse_effectiveness'])  # Remove unnecessary columns\n",
    "tokenized_datasets.set_format('torch')"
   ]
  },
  {
   "cell_type": "code",
   "execution_count": 22,
   "metadata": {},
   "outputs": [],
   "source": [
    "from torch.utils.data import DataLoader\n",
    "\n",
    "train_dataloader = DataLoader(tokenized_datasets['train'], shuffle=True, batch_size=16)\n",
    "eval_dataloader = DataLoader(tokenized_datasets['validation'], batch_size=16)"
   ]
  },
  {
   "cell_type": "code",
   "execution_count": 23,
   "metadata": {},
   "outputs": [
    {
     "name": "stderr",
     "output_type": "stream",
     "text": [
      "Some weights of BertForSequenceClassification were not initialized from the model checkpoint at bert-base-uncased and are newly initialized: ['classifier.bias', 'classifier.weight']\n",
      "You should probably TRAIN this model on a down-stream task to be able to use it for predictions and inference.\n"
     ]
    }
   ],
   "source": [
    "from transformers import AutoModelForSequenceClassification\n",
    "\n",
    "num_labels = 3  # Effective, Adequate, Not Effective\n",
    "model = AutoModelForSequenceClassification.from_pretrained(model_name, num_labels=num_labels)"
   ]
  },
  {
   "cell_type": "code",
   "execution_count": 24,
   "metadata": {},
   "outputs": [
    {
     "name": "stderr",
     "output_type": "stream",
     "text": [
      "/Library/Frameworks/Python.framework/Versions/3.11/lib/python3.11/site-packages/transformers/training_args.py:1545: FutureWarning: `evaluation_strategy` is deprecated and will be removed in version 4.46 of 🤗 Transformers. Use `eval_strategy` instead\n",
      "  warnings.warn(\n"
     ]
    }
   ],
   "source": [
    "from transformers import Trainer, TrainingArguments\n",
    "import numpy as np\n",
    "from sklearn.metrics import accuracy_score, precision_recall_fscore_support\n",
    "\n",
    "def compute_metrics(eval_pred):\n",
    "    logits, labels = eval_pred\n",
    "    predictions = np.argmax(logits, axis=-1)\n",
    "    accuracy = accuracy_score(labels, predictions)\n",
    "    precision, recall, f1, _ = precision_recall_fscore_support(labels, predictions, average='weighted')\n",
    "    return {\n",
    "        'accuracy': accuracy,\n",
    "        'precision': precision,\n",
    "        'recall': recall,\n",
    "        'f1': f1,\n",
    "    }\n",
    "\n",
    "training_args = TrainingArguments(\n",
    "    output_dir='./results',\n",
    "    evaluation_strategy=\"epoch\",\n",
    "    learning_rate=2e-5,\n",
    "    per_device_train_batch_size=16,\n",
    "    per_device_eval_batch_size=16,\n",
    "    num_train_epochs=3,\n",
    "    weight_decay=0.01,\n",
    ")\n",
    "\n",
    "trainer = Trainer(\n",
    "    model=model,\n",
    "    args=training_args,\n",
    "    train_dataset=tokenized_datasets['train'],\n",
    "    eval_dataset=tokenized_datasets['validation'],\n",
    "    compute_metrics=compute_metrics,\n",
    ")"
   ]
  },
  {
   "cell_type": "code",
   "execution_count": 25,
   "metadata": {},
   "outputs": [
    {
     "data": {
      "application/vnd.jupyter.widget-view+json": {
       "model_id": "c785622434e34d9e94a90f56aa7353f7",
       "version_major": 2,
       "version_minor": 0
      },
      "text/plain": [
       "  0%|          | 0/5517 [00:00<?, ?it/s]"
      ]
     },
     "metadata": {},
     "output_type": "display_data"
    },
    {
     "name": "stdout",
     "output_type": "stream",
     "text": [
      "{'loss': 0.8299, 'grad_norm': 5.196715831756592, 'learning_rate': 1.818742069965561e-05, 'epoch': 0.27}\n",
      "{'loss': 0.7755, 'grad_norm': 3.8216562271118164, 'learning_rate': 1.637484139931122e-05, 'epoch': 0.54}\n",
      "{'loss': 0.7617, 'grad_norm': 3.496605157852173, 'learning_rate': 1.456226209896683e-05, 'epoch': 0.82}\n"
     ]
    },
    {
     "data": {
      "application/vnd.jupyter.widget-view+json": {
       "model_id": "9131db92dd0f4b799a2e66014f03ae8d",
       "version_major": 2,
       "version_minor": 0
      },
      "text/plain": [
       "  0%|          | 0/230 [00:00<?, ?it/s]"
      ]
     },
     "metadata": {},
     "output_type": "display_data"
    },
    {
     "name": "stdout",
     "output_type": "stream",
     "text": [
      "{'eval_loss': 0.7599582076072693, 'eval_accuracy': 0.6556039173014145, 'eval_precision': 0.6693911797503348, 'eval_recall': 0.6556039173014145, 'eval_f1': 0.608390573423682, 'eval_runtime': 33.7357, 'eval_samples_per_second': 108.965, 'eval_steps_per_second': 6.818, 'epoch': 1.0}\n",
      "{'loss': 0.7262, 'grad_norm': 4.870213985443115, 'learning_rate': 1.2749682798622441e-05, 'epoch': 1.09}\n",
      "{'loss': 0.6588, 'grad_norm': 8.46845817565918, 'learning_rate': 1.093710349827805e-05, 'epoch': 1.36}\n",
      "{'loss': 0.6571, 'grad_norm': 3.6206326484680176, 'learning_rate': 9.12452419793366e-06, 'epoch': 1.63}\n",
      "{'loss': 0.6469, 'grad_norm': 7.938916206359863, 'learning_rate': 7.311944897589271e-06, 'epoch': 1.9}\n"
     ]
    },
    {
     "data": {
      "application/vnd.jupyter.widget-view+json": {
       "model_id": "f2afc5be3d1a46d4bfc97b9689cf47d0",
       "version_major": 2,
       "version_minor": 0
      },
      "text/plain": [
       "  0%|          | 0/230 [00:00<?, ?it/s]"
      ]
     },
     "metadata": {},
     "output_type": "display_data"
    },
    {
     "name": "stdout",
     "output_type": "stream",
     "text": [
      "{'eval_loss': 0.7511910796165466, 'eval_accuracy': 0.6730141458106638, 'eval_precision': 0.6687811801738767, 'eval_recall': 0.6730141458106638, 'eval_f1': 0.6385681376738567, 'eval_runtime': 33.5462, 'eval_samples_per_second': 109.58, 'eval_steps_per_second': 6.856, 'epoch': 2.0}\n",
      "{'loss': 0.543, 'grad_norm': 9.194948196411133, 'learning_rate': 5.4993655972448805e-06, 'epoch': 2.18}\n",
      "{'loss': 0.5194, 'grad_norm': 8.439209938049316, 'learning_rate': 3.68678629690049e-06, 'epoch': 2.45}\n",
      "{'loss': 0.5044, 'grad_norm': 7.556225299835205, 'learning_rate': 1.8742069965560993e-06, 'epoch': 2.72}\n",
      "{'loss': 0.5056, 'grad_norm': 9.115159034729004, 'learning_rate': 6.162769621170926e-08, 'epoch': 2.99}\n"
     ]
    },
    {
     "data": {
      "application/vnd.jupyter.widget-view+json": {
       "model_id": "7bd8f3a95da74ecb98811215be3cf56a",
       "version_major": 2,
       "version_minor": 0
      },
      "text/plain": [
       "  0%|          | 0/230 [00:00<?, ?it/s]"
      ]
     },
     "metadata": {},
     "output_type": "display_data"
    },
    {
     "name": "stdout",
     "output_type": "stream",
     "text": [
      "{'eval_loss': 0.8244093060493469, 'eval_accuracy': 0.6667573449401524, 'eval_precision': 0.6595218811539684, 'eval_recall': 0.6667573449401524, 'eval_f1': 0.6485072665278387, 'eval_runtime': 33.5719, 'eval_samples_per_second': 109.496, 'eval_steps_per_second': 6.851, 'epoch': 3.0}\n",
      "{'train_runtime': 2738.664, 'train_samples_per_second': 32.219, 'train_steps_per_second': 2.014, 'train_loss': 0.647691592198687, 'epoch': 3.0}\n"
     ]
    },
    {
     "data": {
      "text/plain": [
       "TrainOutput(global_step=5517, training_loss=0.647691592198687, metrics={'train_runtime': 2738.664, 'train_samples_per_second': 32.219, 'train_steps_per_second': 2.014, 'total_flos': 5804018881661952.0, 'train_loss': 0.647691592198687, 'epoch': 3.0})"
      ]
     },
     "execution_count": 25,
     "metadata": {},
     "output_type": "execute_result"
    }
   ],
   "source": [
    "trainer.train()"
   ]
  },
  {
   "cell_type": "code",
   "execution_count": 26,
   "metadata": {},
   "outputs": [
    {
     "data": {
      "application/vnd.jupyter.widget-view+json": {
       "model_id": "1e3772351b54421093683f0978628065",
       "version_major": 2,
       "version_minor": 0
      },
      "text/plain": [
       "  0%|          | 0/230 [00:00<?, ?it/s]"
      ]
     },
     "metadata": {},
     "output_type": "display_data"
    },
    {
     "name": "stdout",
     "output_type": "stream",
     "text": [
      "{'eval_loss': 0.794953465461731, 'eval_accuracy': 0.6766385640467772, 'eval_precision': 0.6695896145247198, 'eval_recall': 0.6766385640467772, 'eval_f1': 0.6595828867045886, 'eval_runtime': 33.6244, 'eval_samples_per_second': 109.355, 'eval_steps_per_second': 6.84, 'epoch': 3.0}\n"
     ]
    }
   ],
   "source": [
    "results = trainer.evaluate(tokenized_datasets['test'])\n",
    "print(results)"
   ]
  }
 ],
 "metadata": {
  "kernelspec": {
   "display_name": "Python 3",
   "language": "python",
   "name": "python3"
  },
  "language_info": {
   "codemirror_mode": {
    "name": "ipython",
    "version": 3
   },
   "file_extension": ".py",
   "mimetype": "text/x-python",
   "name": "python",
   "nbconvert_exporter": "python",
   "pygments_lexer": "ipython3",
   "version": "3.11.9"
  }
 },
 "nbformat": 4,
 "nbformat_minor": 2
}
