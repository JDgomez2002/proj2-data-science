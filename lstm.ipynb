{
 "cells": [
  {
   "metadata": {},
   "cell_type": "markdown",
   "source": [
    "# Long Short-Term Memory\n",
    "### Project 2 - Data Science\n",
    "- Abner Gardia 21285\n",
    "- Esteban Donis 21610\n",
    "- Daniel Gomez 21429"
   ],
   "id": "f6e935737cd60168"
  },
  {
   "cell_type": "code",
   "id": "initial_id",
   "metadata": {
    "collapsed": true,
    "ExecuteTime": {
     "end_time": "2024-10-26T00:53:13.100004Z",
     "start_time": "2024-10-26T00:53:13.095698Z"
    }
   },
   "source": [
    "# Bloque 1: Importar librerías y cargar dataset\n",
    "import pandas as pd\n",
    "import numpy as np\n",
    "import tensorflow as tf\n",
    "from sklearn.model_selection import train_test_split\n",
    "from sklearn.preprocessing import LabelEncoder\n",
    "from tensorflow.keras.preprocessing.text import Tokenizer\n",
    "from tensorflow.keras.preprocessing.sequence import pad_sequences\n",
    "from tensorflow.keras.layers import Input, LSTM, Dense, Embedding, Dropout, Bidirectional\n",
    "from transformers import TFAutoModel, AutoTokenizer\n",
    "from tensorflow.keras.models import Model\n",
    "from tensorflow.keras.optimizers import Adam"
   ],
   "outputs": [],
   "execution_count": 4
  },
  {
   "metadata": {},
   "cell_type": "markdown",
   "source": "Con la data limpia, procedemos a preparar los modelos de LSTM",
   "id": "10d1a13f5e7c1a69"
  },
  {
   "metadata": {
    "ExecuteTime": {
     "end_time": "2024-10-26T00:53:13.187222Z",
     "start_time": "2024-10-26T00:53:13.112567Z"
    }
   },
   "cell_type": "code",
   "source": [
    "discourses = pd.read_csv('./result/data_cleaned.csv')\n",
    "discourses.head()"
   ],
   "id": "c96879342a8e2082",
   "outputs": [
    {
     "data": {
      "text/plain": [
       "   discourse_id      essay_id  \\\n",
       "0  0013cc385424  007ACE74B050   \n",
       "1  9704a709b505  007ACE74B050   \n",
       "2  c22adee811b6  007ACE74B050   \n",
       "3  a10d361e54e4  007ACE74B050   \n",
       "4  db3e453ec4e2  007ACE74B050   \n",
       "\n",
       "                                      discourse_text  discourse_type  \\\n",
       "0  hi isaac going writing face mars natural landf...               4   \n",
       "1  perspective think face natural landform nott t...               5   \n",
       "2  think face natural landform life mars descover...               0   \n",
       "3  life mars would know reason think natural land...               3   \n",
       "4  people thought face formed alieans thought lif...               2   \n",
       "\n",
       "   discourse_effectiveness  text_length  word_count  \n",
       "0                        0          164          27  \n",
       "1                        0          107          15  \n",
       "2                        0           52           8  \n",
       "3                        0          199          30  \n",
       "4                        0           52           8  "
      ],
      "text/html": [
       "<div>\n",
       "<style scoped>\n",
       "    .dataframe tbody tr th:only-of-type {\n",
       "        vertical-align: middle;\n",
       "    }\n",
       "\n",
       "    .dataframe tbody tr th {\n",
       "        vertical-align: top;\n",
       "    }\n",
       "\n",
       "    .dataframe thead th {\n",
       "        text-align: right;\n",
       "    }\n",
       "</style>\n",
       "<table border=\"1\" class=\"dataframe\">\n",
       "  <thead>\n",
       "    <tr style=\"text-align: right;\">\n",
       "      <th></th>\n",
       "      <th>discourse_id</th>\n",
       "      <th>essay_id</th>\n",
       "      <th>discourse_text</th>\n",
       "      <th>discourse_type</th>\n",
       "      <th>discourse_effectiveness</th>\n",
       "      <th>text_length</th>\n",
       "      <th>word_count</th>\n",
       "    </tr>\n",
       "  </thead>\n",
       "  <tbody>\n",
       "    <tr>\n",
       "      <th>0</th>\n",
       "      <td>0013cc385424</td>\n",
       "      <td>007ACE74B050</td>\n",
       "      <td>hi isaac going writing face mars natural landf...</td>\n",
       "      <td>4</td>\n",
       "      <td>0</td>\n",
       "      <td>164</td>\n",
       "      <td>27</td>\n",
       "    </tr>\n",
       "    <tr>\n",
       "      <th>1</th>\n",
       "      <td>9704a709b505</td>\n",
       "      <td>007ACE74B050</td>\n",
       "      <td>perspective think face natural landform nott t...</td>\n",
       "      <td>5</td>\n",
       "      <td>0</td>\n",
       "      <td>107</td>\n",
       "      <td>15</td>\n",
       "    </tr>\n",
       "    <tr>\n",
       "      <th>2</th>\n",
       "      <td>c22adee811b6</td>\n",
       "      <td>007ACE74B050</td>\n",
       "      <td>think face natural landform life mars descover...</td>\n",
       "      <td>0</td>\n",
       "      <td>0</td>\n",
       "      <td>52</td>\n",
       "      <td>8</td>\n",
       "    </tr>\n",
       "    <tr>\n",
       "      <th>3</th>\n",
       "      <td>a10d361e54e4</td>\n",
       "      <td>007ACE74B050</td>\n",
       "      <td>life mars would know reason think natural land...</td>\n",
       "      <td>3</td>\n",
       "      <td>0</td>\n",
       "      <td>199</td>\n",
       "      <td>30</td>\n",
       "    </tr>\n",
       "    <tr>\n",
       "      <th>4</th>\n",
       "      <td>db3e453ec4e2</td>\n",
       "      <td>007ACE74B050</td>\n",
       "      <td>people thought face formed alieans thought lif...</td>\n",
       "      <td>2</td>\n",
       "      <td>0</td>\n",
       "      <td>52</td>\n",
       "      <td>8</td>\n",
       "    </tr>\n",
       "  </tbody>\n",
       "</table>\n",
       "</div>"
      ]
     },
     "execution_count": 5,
     "metadata": {},
     "output_type": "execute_result"
    }
   ],
   "execution_count": 5
  },
  {
   "metadata": {
    "ExecuteTime": {
     "end_time": "2024-10-26T00:53:13.793097Z",
     "start_time": "2024-10-26T00:53:13.213608Z"
    }
   },
   "cell_type": "code",
   "source": [
    "label_encoder = LabelEncoder()\n",
    "discourses['discourse_effectiveness'] = label_encoder.fit_transform(discourses['discourse_effectiveness'])\n",
    "\n",
    "X = discourses['discourse_text'].values\n",
    "y = discourses['discourse_effectiveness'].values\n",
    "\n",
    "X = [str(text) if not isinstance(text, str) else text for text in X]\n",
    "\n",
    "tokenizer = Tokenizer(num_words=10000, oov_token='<OOV>')\n",
    "tokenizer.fit_on_texts(X)\n",
    "sequences = tokenizer.texts_to_sequences(X)\n",
    "X_padded = pad_sequences(sequences, padding='post', maxlen=200)\n",
    "\n",
    "X_train, X_test, y_train, y_test = train_test_split(X_padded, y, test_size=0.2, random_state=42)"
   ],
   "id": "46834d545875b688",
   "outputs": [],
   "execution_count": 6
  },
  {
   "metadata": {
    "ExecuteTime": {
     "end_time": "2024-10-26T00:53:13.860112Z",
     "start_time": "2024-10-26T00:53:13.805564Z"
    }
   },
   "cell_type": "code",
   "source": [
    "# LSTM Model 1: Simple LSTM\n",
    "model1 = tf.keras.Sequential([\n",
    "    Embedding(input_dim=10000, output_dim=128, input_length=200),\n",
    "    LSTM(128),\n",
    "    Dense(3, activation='softmax')\n",
    "])\n",
    "model1.compile(optimizer=Adam(), loss='sparse_categorical_crossentropy', metrics=['accuracy'])\n"
   ],
   "id": "89f98a3f9edbb0fd",
   "outputs": [
    {
     "name": "stderr",
     "output_type": "stream",
     "text": [
      "/Library/Frameworks/Python.framework/Versions/3.12/lib/python3.12/site-packages/keras/src/layers/core/embedding.py:90: UserWarning: Argument `input_length` is deprecated. Just remove it.\n",
      "  warnings.warn(\n"
     ]
    }
   ],
   "execution_count": 7
  },
  {
   "metadata": {
    "ExecuteTime": {
     "end_time": "2024-10-26T01:00:00.397848Z",
     "start_time": "2024-10-26T00:53:13.866617Z"
    }
   },
   "cell_type": "code",
   "source": [
    "model1.fit(X_train, y_train, epochs=5, validation_data=(X_test, y_test))\n",
    "model1.evaluate(X_test, y_test)"
   ],
   "id": "7c9dd55c7f43ab47",
   "outputs": [
    {
     "name": "stdout",
     "output_type": "stream",
     "text": [
      "Epoch 1/5\n",
      "\u001B[1m920/920\u001B[0m \u001B[32m━━━━━━━━━━━━━━━━━━━━\u001B[0m\u001B[37m\u001B[0m \u001B[1m80s\u001B[0m 86ms/step - accuracy: 0.5633 - loss: 0.9844 - val_accuracy: 0.5777 - val_loss: 0.9672\n",
      "Epoch 2/5\n",
      "\u001B[1m920/920\u001B[0m \u001B[32m━━━━━━━━━━━━━━━━━━━━\u001B[0m\u001B[37m\u001B[0m \u001B[1m80s\u001B[0m 86ms/step - accuracy: 0.5644 - loss: 0.9844 - val_accuracy: 0.5780 - val_loss: 0.9670\n",
      "Epoch 3/5\n",
      "\u001B[1m920/920\u001B[0m \u001B[32m━━━━━━━━━━━━━━━━━━━━\u001B[0m\u001B[37m\u001B[0m \u001B[1m79s\u001B[0m 86ms/step - accuracy: 0.5724 - loss: 0.9718 - val_accuracy: 0.5781 - val_loss: 0.9686\n",
      "Epoch 4/5\n",
      "\u001B[1m920/920\u001B[0m \u001B[32m━━━━━━━━━━━━━━━━━━━━\u001B[0m\u001B[37m\u001B[0m \u001B[1m79s\u001B[0m 86ms/step - accuracy: 0.5725 - loss: 0.9712 - val_accuracy: 0.5785 - val_loss: 0.9662\n",
      "Epoch 5/5\n",
      "\u001B[1m920/920\u001B[0m \u001B[32m━━━━━━━━━━━━━━━━━━━━\u001B[0m\u001B[37m\u001B[0m \u001B[1m83s\u001B[0m 90ms/step - accuracy: 0.5715 - loss: 0.9733 - val_accuracy: 0.5781 - val_loss: 0.9669\n",
      "\u001B[1m230/230\u001B[0m \u001B[32m━━━━━━━━━━━━━━━━━━━━\u001B[0m\u001B[37m\u001B[0m \u001B[1m7s\u001B[0m 28ms/step - accuracy: 0.5779 - loss: 0.9695\n"
     ]
    },
    {
     "data": {
      "text/plain": [
       "[0.9668645262718201, 0.578131377696991]"
      ]
     },
     "execution_count": 8,
     "metadata": {},
     "output_type": "execute_result"
    }
   ],
   "execution_count": 8
  },
  {
   "metadata": {
    "ExecuteTime": {
     "end_time": "2024-10-26T01:00:00.483049Z",
     "start_time": "2024-10-26T01:00:00.470126Z"
    }
   },
   "cell_type": "code",
   "source": [
    "# LSTM Model 2: Bidirectional LSTM\n",
    "model2 = tf.keras.Sequential([\n",
    "    Embedding(input_dim=10000, output_dim=128, input_length=200),\n",
    "    Bidirectional(LSTM(128)),\n",
    "    Dense(3, activation='softmax')\n",
    "])\n",
    "model2.compile(optimizer=Adam(), loss='sparse_categorical_crossentropy', metrics=['accuracy'])"
   ],
   "id": "d741cd5ba5b83795",
   "outputs": [
    {
     "name": "stderr",
     "output_type": "stream",
     "text": [
      "/Library/Frameworks/Python.framework/Versions/3.12/lib/python3.12/site-packages/keras/src/layers/core/embedding.py:90: UserWarning: Argument `input_length` is deprecated. Just remove it.\n",
      "  warnings.warn(\n"
     ]
    }
   ],
   "execution_count": 9
  },
  {
   "metadata": {
    "ExecuteTime": {
     "end_time": "2024-10-26T01:12:50.373961Z",
     "start_time": "2024-10-26T01:00:00.563314Z"
    }
   },
   "cell_type": "code",
   "source": [
    "model2.fit(X_train, y_train, epochs=5, validation_data=(X_test, y_test))\n",
    "model2.evaluate(X_test, y_test)"
   ],
   "id": "1b4ea652c43edbfe",
   "outputs": [
    {
     "name": "stdout",
     "output_type": "stream",
     "text": [
      "Epoch 1/5\n",
      "\u001B[1m920/920\u001B[0m \u001B[32m━━━━━━━━━━━━━━━━━━━━\u001B[0m\u001B[37m\u001B[0m \u001B[1m146s\u001B[0m 158ms/step - accuracy: 0.6114 - loss: 0.8884 - val_accuracy: 0.6449 - val_loss: 0.8098\n",
      "Epoch 2/5\n",
      "\u001B[1m920/920\u001B[0m \u001B[32m━━━━━━━━━━━━━━━━━━━━\u001B[0m\u001B[37m\u001B[0m \u001B[1m153s\u001B[0m 166ms/step - accuracy: 0.6740 - loss: 0.7395 - val_accuracy: 0.6517 - val_loss: 0.7950\n",
      "Epoch 3/5\n",
      "\u001B[1m920/920\u001B[0m \u001B[32m━━━━━━━━━━━━━━━━━━━━\u001B[0m\u001B[37m\u001B[0m \u001B[1m152s\u001B[0m 165ms/step - accuracy: 0.7225 - loss: 0.6480 - val_accuracy: 0.6401 - val_loss: 0.8203\n",
      "Epoch 4/5\n",
      "\u001B[1m920/920\u001B[0m \u001B[32m━━━━━━━━━━━━━━━━━━━━\u001B[0m\u001B[37m\u001B[0m \u001B[1m154s\u001B[0m 167ms/step - accuracy: 0.7734 - loss: 0.5603 - val_accuracy: 0.6257 - val_loss: 0.8846\n",
      "Epoch 5/5\n",
      "\u001B[1m920/920\u001B[0m \u001B[32m━━━━━━━━━━━━━━━━━━━━\u001B[0m\u001B[37m\u001B[0m \u001B[1m153s\u001B[0m 167ms/step - accuracy: 0.8104 - loss: 0.4782 - val_accuracy: 0.6189 - val_loss: 0.9712\n",
      "\u001B[1m230/230\u001B[0m \u001B[32m━━━━━━━━━━━━━━━━━━━━\u001B[0m\u001B[37m\u001B[0m \u001B[1m12s\u001B[0m 53ms/step - accuracy: 0.6120 - loss: 0.9687\n"
     ]
    },
    {
     "data": {
      "text/plain": [
       "[0.9711745977401733, 0.6189310550689697]"
      ]
     },
     "execution_count": 10,
     "metadata": {},
     "output_type": "execute_result"
    }
   ],
   "execution_count": 10
  },
  {
   "metadata": {
    "ExecuteTime": {
     "end_time": "2024-10-26T01:12:50.397773Z",
     "start_time": "2024-10-26T01:12:50.388710Z"
    }
   },
   "cell_type": "code",
   "source": [
    "# LSTM Model 3: LSTM with Dropout\n",
    "model3 = tf.keras.Sequential([\n",
    "    Embedding(input_dim=10000, output_dim=128, input_length=200),\n",
    "    LSTM(128, return_sequences=True),\n",
    "    Dropout(0.5),\n",
    "    LSTM(64),\n",
    "    Dense(3, activation='softmax')\n",
    "])\n",
    "model3.compile(optimizer=Adam(), loss='sparse_categorical_crossentropy', metrics=['accuracy'])"
   ],
   "id": "17fe7e233733a1d8",
   "outputs": [
    {
     "name": "stderr",
     "output_type": "stream",
     "text": [
      "/Library/Frameworks/Python.framework/Versions/3.12/lib/python3.12/site-packages/keras/src/layers/core/embedding.py:90: UserWarning: Argument `input_length` is deprecated. Just remove it.\n",
      "  warnings.warn(\n"
     ]
    }
   ],
   "execution_count": 11
  },
  {
   "metadata": {
    "ExecuteTime": {
     "end_time": "2024-10-26T01:23:42.902423Z",
     "start_time": "2024-10-26T01:12:50.403539Z"
    }
   },
   "cell_type": "code",
   "source": [
    "model3.fit(X_train, y_train, epochs=5, validation_data=(X_test, y_test))\n",
    "model3.evaluate(X_test, y_test)"
   ],
   "id": "997ef717b8cd8e7c",
   "outputs": [
    {
     "name": "stdout",
     "output_type": "stream",
     "text": [
      "Epoch 1/5\n",
      "\u001B[1m920/920\u001B[0m \u001B[32m━━━━━━━━━━━━━━━━━━━━\u001B[0m\u001B[37m\u001B[0m \u001B[1m133s\u001B[0m 144ms/step - accuracy: 0.5634 - loss: 0.9855 - val_accuracy: 0.5775 - val_loss: 0.9794\n",
      "Epoch 2/5\n",
      "\u001B[1m920/920\u001B[0m \u001B[32m━━━━━━━━━━━━━━━━━━━━\u001B[0m\u001B[37m\u001B[0m \u001B[1m125s\u001B[0m 136ms/step - accuracy: 0.5724 - loss: 0.9763 - val_accuracy: 0.5775 - val_loss: 0.9694\n",
      "Epoch 3/5\n",
      "\u001B[1m920/920\u001B[0m \u001B[32m━━━━━━━━━━━━━━━━━━━━\u001B[0m\u001B[37m\u001B[0m \u001B[1m128s\u001B[0m 140ms/step - accuracy: 0.5663 - loss: 0.9773 - val_accuracy: 0.5775 - val_loss: 0.9677\n",
      "Epoch 4/5\n",
      "\u001B[1m920/920\u001B[0m \u001B[32m━━━━━━━━━━━━━━━━━━━━\u001B[0m\u001B[37m\u001B[0m \u001B[1m127s\u001B[0m 138ms/step - accuracy: 0.5657 - loss: 0.9790 - val_accuracy: 0.5775 - val_loss: 0.9674\n",
      "Epoch 5/5\n",
      "\u001B[1m920/920\u001B[0m \u001B[32m━━━━━━━━━━━━━━━━━━━━\u001B[0m\u001B[37m\u001B[0m \u001B[1m130s\u001B[0m 141ms/step - accuracy: 0.5685 - loss: 0.9749 - val_accuracy: 0.5775 - val_loss: 0.9663\n",
      "\u001B[1m230/230\u001B[0m \u001B[32m━━━━━━━━━━━━━━━━━━━━\u001B[0m\u001B[37m\u001B[0m \u001B[1m9s\u001B[0m 41ms/step - accuracy: 0.5773 - loss: 0.9687\n"
     ]
    },
    {
     "data": {
      "text/plain": [
       "[0.9662852883338928, 0.5774514079093933]"
      ]
     },
     "execution_count": 12,
     "metadata": {},
     "output_type": "execute_result"
    }
   ],
   "execution_count": 12
  }
 ],
 "metadata": {
  "kernelspec": {
   "display_name": "Python 3",
   "language": "python",
   "name": "python3"
  },
  "language_info": {
   "codemirror_mode": {
    "name": "ipython",
    "version": 2
   },
   "file_extension": ".py",
   "mimetype": "text/x-python",
   "name": "python",
   "nbconvert_exporter": "python",
   "pygments_lexer": "ipython2",
   "version": "2.7.6"
  }
 },
 "nbformat": 4,
 "nbformat_minor": 5
}
