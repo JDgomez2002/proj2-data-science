{
 "cells": [
  {
   "cell_type": "code",
   "execution_count": 1,
   "metadata": {},
   "outputs": [],
   "source": [
    "import pandas as pd\n",
    "import seaborn as sns\n",
    "import matplotlib.pyplot as plt\n",
    "import seaborn as sns\n",
    "\n",
    "from transformers import AutoTokenizer, pipeline\n",
    "from sklearn.preprocessing import OneHotEncoder\n",
    "from datasets import load_dataset"
   ]
  },
  {
   "cell_type": "code",
   "execution_count": 2,
   "metadata": {},
   "outputs": [],
   "source": [
    "train = pd.read_csv('data/train.csv')"
   ]
  },
  {
   "cell_type": "code",
   "execution_count": 3,
   "metadata": {},
   "outputs": [
    {
     "name": "stdout",
     "output_type": "stream",
     "text": [
      "Original Dataset Class Distribution:\n",
      "discourse_effectiveness\n",
      "Adequate       0.570570\n",
      "Effective      0.253665\n",
      "Ineffective    0.175765\n",
      "Name: proportion, dtype: float64\n",
      "\n",
      "Training Set Class Distribution:\n",
      "discourse_effectiveness\n",
      "Adequate       0.570549\n",
      "Effective      0.253672\n",
      "Ineffective    0.175779\n",
      "Name: proportion, dtype: float64\n",
      "\n",
      "Validation Set Class Distribution:\n",
      "discourse_effectiveness\n",
      "Adequate       0.570729\n",
      "Effective      0.253536\n",
      "Ineffective    0.175734\n",
      "Name: proportion, dtype: float64\n",
      "\n",
      "Test Set Class Distribution:\n",
      "discourse_effectiveness\n",
      "Adequate       0.570574\n",
      "Effective      0.253739\n",
      "Ineffective    0.175687\n",
      "Name: proportion, dtype: float64\n",
      "\n",
      "Data successfully split and saved to CSV files.\n"
     ]
    }
   ],
   "source": [
    "import pandas as pd\n",
    "from sklearn.model_selection import train_test_split\n",
    "\n",
    "# Step 1: Load the dataset\n",
    "df = pd.read_csv('data/train.csv')\n",
    "\n",
    "# Step 2: Define the label column\n",
    "label_column = 'discourse_effectiveness'  # Replace with your actual label column name\n",
    "\n",
    "# Optional: Inspect class distribution\n",
    "print(\"Original Dataset Class Distribution:\")\n",
    "print(df[label_column].value_counts(normalize=True))\n",
    "\n",
    "# Step 3: First split - Train and Temp\n",
    "train_df, temp_df = train_test_split(\n",
    "    df,\n",
    "    test_size=0.2,  # 20% to temp\n",
    "    random_state=42,\n",
    "    stratify=df[label_column]\n",
    ")\n",
    "\n",
    "# Step 4: Second split - Validation and Test\n",
    "validation_df, test_df = train_test_split(\n",
    "    temp_df,\n",
    "    test_size=0.5,  # 10% each\n",
    "    random_state=42,\n",
    "    stratify=temp_df[label_column]\n",
    ")\n",
    "\n",
    "# Step 5: Save the splits to CSV files\n",
    "train_df.to_csv('train.csv', index=False)\n",
    "validation_df.to_csv('validation.csv', index=False)\n",
    "test_df.to_csv('test.csv', index=False)\n",
    "\n",
    "# Step 6: Verify the splits\n",
    "print(\"\\nTraining Set Class Distribution:\")\n",
    "print(train_df[label_column].value_counts(normalize=True))\n",
    "\n",
    "print(\"\\nValidation Set Class Distribution:\")\n",
    "print(validation_df[label_column].value_counts(normalize=True))\n",
    "\n",
    "print(\"\\nTest Set Class Distribution:\")\n",
    "print(test_df[label_column].value_counts(normalize=True))\n",
    "\n",
    "print(\"\\nData successfully split and saved to CSV files.\")\n"
   ]
  },
  {
   "cell_type": "code",
   "execution_count": 4,
   "metadata": {},
   "outputs": [
    {
     "data": {
      "application/vnd.jupyter.widget-view+json": {
       "model_id": "6a8026763cdf4c88830573971fea11c3",
       "version_major": 2,
       "version_minor": 0
      },
      "text/plain": [
       "Generating train split: 0 examples [00:00, ? examples/s]"
      ]
     },
     "metadata": {},
     "output_type": "display_data"
    },
    {
     "data": {
      "application/vnd.jupyter.widget-view+json": {
       "model_id": "a0c913d024084e3aba8ddda8d858b440",
       "version_major": 2,
       "version_minor": 0
      },
      "text/plain": [
       "Generating validation split: 0 examples [00:00, ? examples/s]"
      ]
     },
     "metadata": {},
     "output_type": "display_data"
    },
    {
     "data": {
      "application/vnd.jupyter.widget-view+json": {
       "model_id": "b34a20e960ed411ebc7e00bddd009a2d",
       "version_major": 2,
       "version_minor": 0
      },
      "text/plain": [
       "Generating test split: 0 examples [00:00, ? examples/s]"
      ]
     },
     "metadata": {},
     "output_type": "display_data"
    }
   ],
   "source": [
    "dataset = load_dataset('csv', data_files={'train': 'train.csv',\n",
    "                                         'validation': 'validation.csv',\n",
    "                                         'test': 'test.csv'})"
   ]
  },
  {
   "cell_type": "code",
   "execution_count": 5,
   "metadata": {},
   "outputs": [
    {
     "data": {
      "application/vnd.jupyter.widget-view+json": {
       "model_id": "b1a8c811af6744d8bf2a6eb57e261945",
       "version_major": 2,
       "version_minor": 0
      },
      "text/plain": [
       "Map:   0%|          | 0/29412 [00:00<?, ? examples/s]"
      ]
     },
     "metadata": {},
     "output_type": "display_data"
    },
    {
     "data": {
      "application/vnd.jupyter.widget-view+json": {
       "model_id": "b6ef8cc2304243a290e9e7bfe74c0b10",
       "version_major": 2,
       "version_minor": 0
      },
      "text/plain": [
       "Map:   0%|          | 0/3676 [00:00<?, ? examples/s]"
      ]
     },
     "metadata": {},
     "output_type": "display_data"
    },
    {
     "data": {
      "application/vnd.jupyter.widget-view+json": {
       "model_id": "d11024bf53724eb28401fa748be16b70",
       "version_major": 2,
       "version_minor": 0
      },
      "text/plain": [
       "Map:   0%|          | 0/3677 [00:00<?, ? examples/s]"
      ]
     },
     "metadata": {},
     "output_type": "display_data"
    }
   ],
   "source": [
    "label_mapping = {\n",
    "    \"Effective\": 0,\n",
    "    \"Adequate\": 1,\n",
    "    \"Ineffective\": 2\n",
    "}\n",
    "\n",
    "def encode_labels(example):\n",
    "    example['labels'] = label_mapping[example['discourse_effectiveness']]\n",
    "    return example\n",
    "\n",
    "dataset = dataset.map(encode_labels)"
   ]
  },
  {
   "cell_type": "code",
   "execution_count": 6,
   "metadata": {},
   "outputs": [],
   "source": [
    "model_name = \"roberta-base\"\n",
    "tokenizer = AutoTokenizer.from_pretrained(model_name)"
   ]
  },
  {
   "cell_type": "code",
   "execution_count": 7,
   "metadata": {},
   "outputs": [
    {
     "data": {
      "application/vnd.jupyter.widget-view+json": {
       "model_id": "0cc237d877e94e898aa73cdf1a10d9f9",
       "version_major": 2,
       "version_minor": 0
      },
      "text/plain": [
       "Map:   0%|          | 0/29412 [00:00<?, ? examples/s]"
      ]
     },
     "metadata": {},
     "output_type": "display_data"
    },
    {
     "data": {
      "application/vnd.jupyter.widget-view+json": {
       "model_id": "8126a6619ffd4b84833b8e0a572c91c7",
       "version_major": 2,
       "version_minor": 0
      },
      "text/plain": [
       "Map:   0%|          | 0/3676 [00:00<?, ? examples/s]"
      ]
     },
     "metadata": {},
     "output_type": "display_data"
    },
    {
     "data": {
      "application/vnd.jupyter.widget-view+json": {
       "model_id": "06482917939e41ceaa90e5178ecc4e58",
       "version_major": 2,
       "version_minor": 0
      },
      "text/plain": [
       "Map:   0%|          | 0/3677 [00:00<?, ? examples/s]"
      ]
     },
     "metadata": {},
     "output_type": "display_data"
    }
   ],
   "source": [
    "def tokenize_function(example):\n",
    "    return tokenizer(example['discourse_text'], padding='max_length', truncation=True, max_length=128)\n",
    "\n",
    "tokenized_datasets = dataset.map(tokenize_function, batched=True)"
   ]
  },
  {
   "cell_type": "code",
   "execution_count": 8,
   "metadata": {},
   "outputs": [],
   "source": [
    "tokenized_datasets = tokenized_datasets.remove_columns(['discourse_id', 'essay_id', 'discourse_text', 'discourse_effectiveness'])  # Remove unnecessary columns\n",
    "tokenized_datasets.set_format('torch')"
   ]
  },
  {
   "cell_type": "code",
   "execution_count": 9,
   "metadata": {},
   "outputs": [],
   "source": [
    "from torch.utils.data import DataLoader\n",
    "\n",
    "train_dataloader = DataLoader(tokenized_datasets['train'], shuffle=True, batch_size=16)\n",
    "eval_dataloader = DataLoader(tokenized_datasets['validation'], batch_size=16)"
   ]
  },
  {
   "cell_type": "code",
   "execution_count": 10,
   "metadata": {},
   "outputs": [
    {
     "name": "stderr",
     "output_type": "stream",
     "text": [
      "Some weights of RobertaForSequenceClassification were not initialized from the model checkpoint at roberta-base and are newly initialized: ['classifier.dense.bias', 'classifier.dense.weight', 'classifier.out_proj.bias', 'classifier.out_proj.weight']\n",
      "You should probably TRAIN this model on a down-stream task to be able to use it for predictions and inference.\n"
     ]
    }
   ],
   "source": [
    "from transformers import AutoModelForSequenceClassification\n",
    "\n",
    "num_labels = 3  # Effective, Adequate, Not Effective\n",
    "model = AutoModelForSequenceClassification.from_pretrained(model_name, num_labels=num_labels)"
   ]
  },
  {
   "cell_type": "code",
   "execution_count": 11,
   "metadata": {},
   "outputs": [
    {
     "name": "stderr",
     "output_type": "stream",
     "text": [
      "/Library/Frameworks/Python.framework/Versions/3.11/lib/python3.11/site-packages/transformers/training_args.py:1545: FutureWarning: `evaluation_strategy` is deprecated and will be removed in version 4.46 of 🤗 Transformers. Use `eval_strategy` instead\n",
      "  warnings.warn(\n"
     ]
    }
   ],
   "source": [
    "from transformers import Trainer, TrainingArguments\n",
    "import numpy as np\n",
    "from sklearn.metrics import accuracy_score, precision_recall_fscore_support\n",
    "\n",
    "def compute_metrics(eval_pred):\n",
    "    logits, labels = eval_pred\n",
    "    predictions = np.argmax(logits, axis=-1)\n",
    "    accuracy = accuracy_score(labels, predictions)\n",
    "    precision, recall, f1, _ = precision_recall_fscore_support(labels, predictions, average='weighted')\n",
    "    return {\n",
    "        'accuracy': accuracy,\n",
    "        'precision': precision,\n",
    "        'recall': recall,\n",
    "        'f1': f1,\n",
    "    }\n",
    "\n",
    "training_args = TrainingArguments(\n",
    "    output_dir='./results',\n",
    "    evaluation_strategy=\"epoch\",\n",
    "    learning_rate=2e-5,\n",
    "    per_device_train_batch_size=16,\n",
    "    per_device_eval_batch_size=16,\n",
    "    num_train_epochs=4,\n",
    "    weight_decay=0.01,\n",
    ")\n",
    "\n",
    "trainer = Trainer(\n",
    "    model=model,\n",
    "    args=training_args,\n",
    "    train_dataset=tokenized_datasets['train'],\n",
    "    eval_dataset=tokenized_datasets['validation'],\n",
    "    compute_metrics=compute_metrics,\n",
    ")"
   ]
  },
  {
   "cell_type": "code",
   "execution_count": 12,
   "metadata": {},
   "outputs": [
    {
     "data": {
      "application/vnd.jupyter.widget-view+json": {
       "model_id": "324e17ee5f45411ca1996e8320c11827",
       "version_major": 2,
       "version_minor": 0
      },
      "text/plain": [
       "  0%|          | 0/7356 [00:00<?, ?it/s]"
      ]
     },
     "metadata": {},
     "output_type": "display_data"
    },
    {
     "name": "stdout",
     "output_type": "stream",
     "text": [
      "{'loss': 0.8338, 'grad_norm': 8.56307601928711, 'learning_rate': 1.864056552474171e-05, 'epoch': 0.27}\n",
      "{'loss': 0.779, 'grad_norm': 8.343132019042969, 'learning_rate': 1.728113104948342e-05, 'epoch': 0.54}\n",
      "{'loss': 0.7594, 'grad_norm': 6.399747371673584, 'learning_rate': 1.5921696574225122e-05, 'epoch': 0.82}\n"
     ]
    },
    {
     "data": {
      "application/vnd.jupyter.widget-view+json": {
       "model_id": "cb1fd7be39e441789e03cee8f21b3d71",
       "version_major": 2,
       "version_minor": 0
      },
      "text/plain": [
       "  0%|          | 0/230 [00:00<?, ?it/s]"
      ]
     },
     "metadata": {},
     "output_type": "display_data"
    },
    {
     "name": "stdout",
     "output_type": "stream",
     "text": [
      "{'eval_loss': 0.7345178127288818, 'eval_accuracy': 0.6713819368879217, 'eval_precision': 0.6919394056671572, 'eval_recall': 0.6713819368879217, 'eval_f1': 0.6225536302055, 'eval_runtime': 31.6755, 'eval_samples_per_second': 116.052, 'eval_steps_per_second': 7.261, 'epoch': 1.0}\n",
      "{'loss': 0.7312, 'grad_norm': 6.612321853637695, 'learning_rate': 1.456226209896683e-05, 'epoch': 1.09}\n",
      "{'loss': 0.6772, 'grad_norm': 13.894224166870117, 'learning_rate': 1.3202827623708539e-05, 'epoch': 1.36}\n",
      "{'loss': 0.6809, 'grad_norm': 4.855429649353027, 'learning_rate': 1.1843393148450246e-05, 'epoch': 1.63}\n",
      "{'loss': 0.6706, 'grad_norm': 11.448535919189453, 'learning_rate': 1.0483958673191954e-05, 'epoch': 1.9}\n"
     ]
    },
    {
     "data": {
      "application/vnd.jupyter.widget-view+json": {
       "model_id": "e9a05d6f020641bc9420d7008e6433c0",
       "version_major": 2,
       "version_minor": 0
      },
      "text/plain": [
       "  0%|          | 0/230 [00:00<?, ?it/s]"
      ]
     },
     "metadata": {},
     "output_type": "display_data"
    },
    {
     "name": "stdout",
     "output_type": "stream",
     "text": [
      "{'eval_loss': 0.7430399060249329, 'eval_accuracy': 0.6825353645266594, 'eval_precision': 0.689042007087132, 'eval_recall': 0.6825353645266594, 'eval_f1': 0.6423203627303702, 'eval_runtime': 31.5994, 'eval_samples_per_second': 116.331, 'eval_steps_per_second': 7.279, 'epoch': 2.0}\n",
      "{'loss': 0.5869, 'grad_norm': 11.467052459716797, 'learning_rate': 9.12452419793366e-06, 'epoch': 2.18}\n",
      "{'loss': 0.5705, 'grad_norm': 13.454777717590332, 'learning_rate': 7.765089722675368e-06, 'epoch': 2.45}\n",
      "{'loss': 0.566, 'grad_norm': 12.651999473571777, 'learning_rate': 6.405655247417075e-06, 'epoch': 2.72}\n",
      "{'loss': 0.5679, 'grad_norm': 15.38457202911377, 'learning_rate': 5.046220772158782e-06, 'epoch': 2.99}\n"
     ]
    },
    {
     "data": {
      "application/vnd.jupyter.widget-view+json": {
       "model_id": "179f6e1211c541fba332355f3bec15ca",
       "version_major": 2,
       "version_minor": 0
      },
      "text/plain": [
       "  0%|          | 0/230 [00:00<?, ?it/s]"
      ]
     },
     "metadata": {},
     "output_type": "display_data"
    },
    {
     "name": "stdout",
     "output_type": "stream",
     "text": [
      "{'eval_loss': 0.796302080154419, 'eval_accuracy': 0.6708378672470077, 'eval_precision': 0.6714594706713335, 'eval_recall': 0.6708378672470077, 'eval_f1': 0.6522150186425848, 'eval_runtime': 31.5915, 'eval_samples_per_second': 116.36, 'eval_steps_per_second': 7.28, 'epoch': 3.0}\n",
      "{'loss': 0.4723, 'grad_norm': 38.97312545776367, 'learning_rate': 3.68678629690049e-06, 'epoch': 3.26}\n",
      "{'loss': 0.4595, 'grad_norm': 19.023792266845703, 'learning_rate': 2.327351821642197e-06, 'epoch': 3.53}\n",
      "{'loss': 0.4564, 'grad_norm': 32.332061767578125, 'learning_rate': 9.679173463839045e-07, 'epoch': 3.81}\n"
     ]
    },
    {
     "data": {
      "application/vnd.jupyter.widget-view+json": {
       "model_id": "c9a0891833d846b88963145bd498754c",
       "version_major": 2,
       "version_minor": 0
      },
      "text/plain": [
       "  0%|          | 0/230 [00:00<?, ?it/s]"
      ]
     },
     "metadata": {},
     "output_type": "display_data"
    },
    {
     "name": "stdout",
     "output_type": "stream",
     "text": [
      "{'eval_loss': 0.8762441873550415, 'eval_accuracy': 0.6686615886833515, 'eval_precision': 0.6669636765673981, 'eval_recall': 0.6686615886833515, 'eval_f1': 0.6543823134224281, 'eval_runtime': 31.6282, 'eval_samples_per_second': 116.226, 'eval_steps_per_second': 7.272, 'epoch': 4.0}\n",
      "{'train_runtime': 3629.2911, 'train_samples_per_second': 32.416, 'train_steps_per_second': 2.027, 'train_loss': 0.6211020120659103, 'epoch': 4.0}\n"
     ]
    },
    {
     "data": {
      "text/plain": [
       "TrainOutput(global_step=7356, training_loss=0.6211020120659103, metrics={'train_runtime': 3629.2911, 'train_samples_per_second': 32.416, 'train_steps_per_second': 2.027, 'total_flos': 7738691842215936.0, 'train_loss': 0.6211020120659103, 'epoch': 4.0})"
      ]
     },
     "execution_count": 12,
     "metadata": {},
     "output_type": "execute_result"
    }
   ],
   "source": [
    "trainer.train()"
   ]
  },
  {
   "cell_type": "code",
   "execution_count": 13,
   "metadata": {},
   "outputs": [
    {
     "data": {
      "application/vnd.jupyter.widget-view+json": {
       "model_id": "476d6efa36bf411db592ac89d1795c98",
       "version_major": 2,
       "version_minor": 0
      },
      "text/plain": [
       "  0%|          | 0/230 [00:00<?, ?it/s]"
      ]
     },
     "metadata": {},
     "output_type": "display_data"
    },
    {
     "name": "stdout",
     "output_type": "stream",
     "text": [
      "{'eval_loss': 0.851549506187439, 'eval_accuracy': 0.6741909165080229, 'eval_precision': 0.667516973046498, 'eval_recall': 0.6741909165080229, 'eval_f1': 0.6603284602672285, 'eval_runtime': 31.6674, 'eval_samples_per_second': 116.113, 'eval_steps_per_second': 7.263, 'epoch': 4.0}\n"
     ]
    }
   ],
   "source": [
    "results = trainer.evaluate(tokenized_datasets['test'])\n",
    "print(results)"
   ]
  },
  {
   "cell_type": "code",
   "execution_count": 14,
   "metadata": {},
   "outputs": [
    {
     "data": {
      "application/vnd.jupyter.widget-view+json": {
       "model_id": "8a70138e88b94e6c8f1104f5bc30d121",
       "version_major": 2,
       "version_minor": 0
      },
      "text/plain": [
       "  0%|          | 0/230 [00:00<?, ?it/s]"
      ]
     },
     "metadata": {},
     "output_type": "display_data"
    },
    {
     "data": {
      "image/png": "[encoded data removed]",
      "text/plain": [
       "<Figure size 800x600 with 2 Axes>"
      ]
     },
     "metadata": {},
     "output_type": "display_data"
    },
    {
     "name": "stdout",
     "output_type": "stream",
     "text": [
      "Classification Report:\n",
      "\n",
      "               precision    recall  f1-score   support\n",
      "\n",
      "    Effective       0.72      0.73      0.73      2098\n",
      "     Adequate       0.62      0.81      0.71       933\n",
      "Not Effective       0.55      0.29      0.38       646\n",
      "\n",
      "     accuracy                           0.67      3677\n",
      "    macro avg       0.63      0.61      0.60      3677\n",
      " weighted avg       0.67      0.67      0.66      3677\n",
      "\n"
     ]
    },
    {
     "data": {
      "image/png": "[encoded data removed]",
      "text/plain": [
       "<Figure size 800x600 with 1 Axes>"
      ]
     },
     "metadata": {},
     "output_type": "display_data"
    },
    {
     "data": {
      "image/png": "[encoded data removed]",
      "text/plain": [
       "<Figure size 1000x600 with 1 Axes>"
      ]
     },
     "metadata": {},
     "output_type": "display_data"
    }
   ],
   "source": [
    "import numpy as np\n",
    "import matplotlib.pyplot as plt\n",
    "import seaborn as sns\n",
    "from sklearn.metrics import confusion_matrix, classification_report\n",
    "\n",
    "# 1. Generate Predictions on Test Set\n",
    "predictions = trainer.predict(tokenized_datasets['test'])\n",
    "predicted_labels = np.argmax(predictions.predictions, axis=1)\n",
    "true_labels = predictions.label_ids\n",
    "\n",
    "# 2. Define Label Mapping\n",
    "id_to_label = {0: \"Effective\", 1: \"Adequate\", 2: \"Not Effective\"}\n",
    "predicted_labels_str = [id_to_label[label] for label in predicted_labels]\n",
    "true_labels_str = [id_to_label[label] for label in true_labels]\n",
    "\n",
    "# 3. Create Confusion Matrix\n",
    "cm = confusion_matrix(true_labels_str, predicted_labels_str, labels=[\"Effective\", \"Adequate\", \"Not Effective\"])\n",
    "\n",
    "# 4. Plot Confusion Matrix\n",
    "plt.figure(figsize=(8,6))\n",
    "sns.heatmap(cm, annot=True, fmt='d', cmap='Blues', \n",
    "            xticklabels=[\"Effective\", \"Adequate\", \"Not Effective\"], \n",
    "            yticklabels=[\"Effective\", \"Adequate\", \"Not Effective\"])\n",
    "plt.ylabel('True Label')\n",
    "plt.xlabel('Predicted Label')\n",
    "plt.title('Confusion Matrix')\n",
    "plt.show()\n",
    "\n",
    "# 5. Print Classification Report\n",
    "print(\"Classification Report:\\n\")\n",
    "print(classification_report(true_labels_str, predicted_labels_str, target_names=[\"Effective\", \"Adequate\", \"Not Effective\"]))\n",
    "\n",
    "# 6. Plot Accuracy Over Epochs\n",
    "log_history = trainer.state.log_history\n",
    "epochs = []\n",
    "accuracies = []\n",
    "\n",
    "for log in log_history:\n",
    "    if 'eval_accuracy' in log:\n",
    "        epochs.append(log['epoch'])\n",
    "        accuracies.append(log['eval_accuracy'])\n",
    "\n",
    "plt.figure(figsize=(8,6))\n",
    "plt.plot(epochs, accuracies, marker='o', linestyle='-', color='b')\n",
    "plt.xlabel('Epoch')\n",
    "plt.ylabel('Validation Accuracy')\n",
    "plt.title('Validation Accuracy Over Epochs')\n",
    "plt.xticks(epochs)\n",
    "plt.ylim(0,1)\n",
    "plt.grid(True)\n",
    "plt.show()\n",
    "\n",
    "# 7. (Optional) Plot Loss Over Epochs\n",
    "train_losses = []\n",
    "eval_losses = []\n",
    "epochs_loss = []\n",
    "\n",
    "for log in log_history:\n",
    "    if 'loss' in log and 'epoch' in log:\n",
    "        train_losses.append(log['loss'])\n",
    "        epochs_loss.append(log['epoch'])\n",
    "    if 'eval_loss' in log:\n",
    "        eval_losses.append(log['eval_loss'])\n",
    "\n",
    "plt.figure(figsize=(10,6))\n",
    "plt.plot(epochs_loss, train_losses, label='Training Loss', marker='o')\n",
    "plt.plot(epochs, eval_losses, label='Validation Loss', marker='s')\n",
    "plt.xlabel('Epoch')\n",
    "plt.ylabel('Loss')\n",
    "plt.title('Training and Validation Loss Over Epochs')\n",
    "plt.xticks(range(1, len(epochs_loss)+1))\n",
    "plt.legend()\n",
    "plt.grid(True)\n",
    "plt.show()"
   ]
  }
 ],
 "metadata": {
  "kernelspec": {
   "display_name": "Python 3",
   "language": "python",
   "name": "python3"
  },
  "language_info": {
   "codemirror_mode": {
    "name": "ipython",
    "version": 3
   },
   "file_extension": ".py",
   "mimetype": "text/x-python",
   "name": "python",
   "nbconvert_exporter": "python",
   "pygments_lexer": "ipython3",
   "version": "3.11.9"
  }
 },
 "nbformat": 4,
 "nbformat_minor": 2
}
