{
 "cells": [
  {
   "cell_type": "code",
   "metadata": {
    "ExecuteTime": {
     "end_time": "2024-11-14T05:43:22.247424Z",
     "start_time": "2024-11-14T05:43:22.245525Z"
    }
   },
   "source": [
    "import pandas as pd\n",
    "import seaborn as sns\n",
    "import matplotlib.pyplot as plt\n",
    "import seaborn as sns\n",
    "\n",
    "from transformers import AutoTokenizer, pipeline\n",
    "from sklearn.preprocessing import OneHotEncoder\n",
    "from datasets import load_dataset\n",
    "import pandas as pd\n",
    "from sklearn.model_selection import train_test_split"
   ],
   "outputs": [],
   "execution_count": 17
  },
  {
   "metadata": {
    "ExecuteTime": {
     "end_time": "2024-11-14T05:44:05.091317Z",
     "start_time": "2024-11-14T05:44:05.028909Z"
    }
   },
   "cell_type": "code",
   "source": [
    "# Step 1: Load the dataset\n",
    "df = pd.read_csv('result/data_cleaned.csv', sep=\",\")"
   ],
   "outputs": [],
   "execution_count": 21
  },
  {
   "metadata": {
    "ExecuteTime": {
     "end_time": "2024-11-14T05:43:25.723571Z",
     "start_time": "2024-11-14T05:43:25.716986Z"
    }
   },
   "cell_type": "code",
   "source": "df.head()",
   "outputs": [
    {
     "data": {
      "text/plain": [
       "   discourse_id      essay_id  \\\n",
       "0  0013cc385424  007ACE74B050   \n",
       "1  9704a709b505  007ACE74B050   \n",
       "2  c22adee811b6  007ACE74B050   \n",
       "3  a10d361e54e4  007ACE74B050   \n",
       "4  db3e453ec4e2  007ACE74B050   \n",
       "\n",
       "                                      discourse_text discourse_type  \\\n",
       "0  hi isaac going writing face mars natural landf...           Lead   \n",
       "1  perspective think face natural landform nott t...       Position   \n",
       "2  think face natural landform life mars descover...          Claim   \n",
       "3  life mars would know reason think natural land...       Evidence   \n",
       "4  people thought face formed alieans thought lif...   Counterclaim   \n",
       "\n",
       "  discourse_effectiveness  text_length  word_count  \n",
       "0                Adequate          164          27  \n",
       "1                Adequate          107          15  \n",
       "2                Adequate           52           8  \n",
       "3                Adequate          199          30  \n",
       "4                Adequate           52           8  "
      ],
      "text/html": [
       "<div>\n",
       "<style scoped>\n",
       "    .dataframe tbody tr th:only-of-type {\n",
       "        vertical-align: middle;\n",
       "    }\n",
       "\n",
       "    .dataframe tbody tr th {\n",
       "        vertical-align: top;\n",
       "    }\n",
       "\n",
       "    .dataframe thead th {\n",
       "        text-align: right;\n",
       "    }\n",
       "</style>\n",
       "<table border=\"1\" class=\"dataframe\">\n",
       "  <thead>\n",
       "    <tr style=\"text-align: right;\">\n",
       "      <th></th>\n",
       "      <th>discourse_id</th>\n",
       "      <th>essay_id</th>\n",
       "      <th>discourse_text</th>\n",
       "      <th>discourse_type</th>\n",
       "      <th>discourse_effectiveness</th>\n",
       "      <th>text_length</th>\n",
       "      <th>word_count</th>\n",
       "    </tr>\n",
       "  </thead>\n",
       "  <tbody>\n",
       "    <tr>\n",
       "      <th>0</th>\n",
       "      <td>0013cc385424</td>\n",
       "      <td>007ACE74B050</td>\n",
       "      <td>hi isaac going writing face mars natural landf...</td>\n",
       "      <td>Lead</td>\n",
       "      <td>Adequate</td>\n",
       "      <td>164</td>\n",
       "      <td>27</td>\n",
       "    </tr>\n",
       "    <tr>\n",
       "      <th>1</th>\n",
       "      <td>9704a709b505</td>\n",
       "      <td>007ACE74B050</td>\n",
       "      <td>perspective think face natural landform nott t...</td>\n",
       "      <td>Position</td>\n",
       "      <td>Adequate</td>\n",
       "      <td>107</td>\n",
       "      <td>15</td>\n",
       "    </tr>\n",
       "    <tr>\n",
       "      <th>2</th>\n",
       "      <td>c22adee811b6</td>\n",
       "      <td>007ACE74B050</td>\n",
       "      <td>think face natural landform life mars descover...</td>\n",
       "      <td>Claim</td>\n",
       "      <td>Adequate</td>\n",
       "      <td>52</td>\n",
       "      <td>8</td>\n",
       "    </tr>\n",
       "    <tr>\n",
       "      <th>3</th>\n",
       "      <td>a10d361e54e4</td>\n",
       "      <td>007ACE74B050</td>\n",
       "      <td>life mars would know reason think natural land...</td>\n",
       "      <td>Evidence</td>\n",
       "      <td>Adequate</td>\n",
       "      <td>199</td>\n",
       "      <td>30</td>\n",
       "    </tr>\n",
       "    <tr>\n",
       "      <th>4</th>\n",
       "      <td>db3e453ec4e2</td>\n",
       "      <td>007ACE74B050</td>\n",
       "      <td>people thought face formed alieans thought lif...</td>\n",
       "      <td>Counterclaim</td>\n",
       "      <td>Adequate</td>\n",
       "      <td>52</td>\n",
       "      <td>8</td>\n",
       "    </tr>\n",
       "  </tbody>\n",
       "</table>\n",
       "</div>"
      ]
     },
     "execution_count": 19,
     "metadata": {},
     "output_type": "execute_result"
    }
   ],
   "execution_count": 19
  },
  {
   "cell_type": "code",
   "metadata": {
    "ExecuteTime": {
     "end_time": "2024-11-14T05:40:40.713809Z",
     "start_time": "2024-11-14T05:40:40.598514Z"
    }
   },
   "source": [
    "\n",
    "# Step 2: Define the label column\n",
    "label_column = 'discourse_effectiveness'  # Replace with your actual label column name\n",
    "\n",
    "# Optional: Inspect class distribution\n",
    "print(\"Original Dataset Class Distribution:\")\n",
    "print(df[label_column].value_counts(normalize=True))\n",
    "\n",
    "# Step 3: First split - Train and Temp\n",
    "train_df, temp_df = train_test_split(\n",
    "    df,\n",
    "    test_size=0.2,  # 20% to temp\n",
    "    random_state=42,\n",
    "    stratify=df[label_column]\n",
    ")\n",
    "\n",
    "# Step 4: Second split - Validation and Test\n",
    "validation_df, test_df = train_test_split(\n",
    "    temp_df,\n",
    "    test_size=0.5,  # 10% each\n",
    "    random_state=42,\n",
    "    stratify=temp_df[label_column]\n",
    ")\n",
    "\n",
    "# Step 5: Save the splits to CSV files\n",
    "train_df.to_csv('transformers_data/train.csv', index=False)\n",
    "validation_df.to_csv('transformers_data/validation.csv', index=False)\n",
    "test_df.to_csv('transformers_data/test.csv', index=False)\n",
    "\n",
    "# Step 6: Verify the splits\n",
    "print(\"\\nTraining Set Class Distribution:\")\n",
    "print(train_df[label_column].value_counts(normalize=True))\n",
    "\n",
    "print(\"\\nValidation Set Class Distribution:\")\n",
    "print(validation_df[label_column].value_counts(normalize=True))\n",
    "\n",
    "print(\"\\nTest Set Class Distribution:\")\n",
    "print(test_df[label_column].value_counts(normalize=True))\n",
    "\n",
    "print(\"\\nData successfully split and saved to CSV files.\")\n"
   ],
   "outputs": [
    {
     "name": "stdout",
     "output_type": "stream",
     "text": [
      "Original Dataset Class Distribution:\n",
      "discourse_effectiveness\n",
      "Adequate       0.570570\n",
      "Effective      0.253665\n",
      "Ineffective    0.175765\n",
      "Name: proportion, dtype: float64\n",
      "\n",
      "Training Set Class Distribution:\n",
      "discourse_effectiveness\n",
      "Adequate       0.570549\n",
      "Effective      0.253672\n",
      "Ineffective    0.175779\n",
      "Name: proportion, dtype: float64\n",
      "\n",
      "Validation Set Class Distribution:\n",
      "discourse_effectiveness\n",
      "Adequate       0.570729\n",
      "Effective      0.253536\n",
      "Ineffective    0.175734\n",
      "Name: proportion, dtype: float64\n",
      "\n",
      "Test Set Class Distribution:\n",
      "discourse_effectiveness\n",
      "Adequate       0.570574\n",
      "Effective      0.253739\n",
      "Ineffective    0.175687\n",
      "Name: proportion, dtype: float64\n",
      "\n",
      "Data successfully split and saved to CSV files.\n"
     ]
    }
   ],
   "execution_count": 14
  },
  {
   "cell_type": "code",
   "execution_count": 5,
   "metadata": {},
   "outputs": [
    {
     "data": {
      "application/vnd.jupyter.widget-view+json": {
       "model_id": "7f4e634e856a4cbebd7ad00640881e2a",
       "version_major": 2,
       "version_minor": 0
      },
      "text/plain": [
       "Generating train split: 0 examples [00:00, ? examples/s]"
      ]
     },
     "metadata": {},
     "output_type": "display_data"
    },
    {
     "data": {
      "application/vnd.jupyter.widget-view+json": {
       "model_id": "e8b7e73f62694f60abf9ed47987be5ac",
       "version_major": 2,
       "version_minor": 0
      },
      "text/plain": [
       "Generating validation split: 0 examples [00:00, ? examples/s]"
      ]
     },
     "metadata": {},
     "output_type": "display_data"
    },
    {
     "data": {
      "application/vnd.jupyter.widget-view+json": {
       "model_id": "fca8e42826044831877a6b363004ceec",
       "version_major": 2,
       "version_minor": 0
      },
      "text/plain": [
       "Generating test split: 0 examples [00:00, ? examples/s]"
      ]
     },
     "metadata": {},
     "output_type": "display_data"
    }
   ],
   "source": [
    "dataset = load_dataset('csv', data_files={'train': 'train.csv',\n",
    "                                         'validation': 'validation.csv',\n",
    "                                         'test': 'test.csv'})"
   ]
  },
  {
   "cell_type": "code",
   "execution_count": 6,
   "metadata": {},
   "outputs": [
    {
     "data": {
      "application/vnd.jupyter.widget-view+json": {
       "model_id": "0484bac0ad41421c8c596c864a9ad8c8",
       "version_major": 2,
       "version_minor": 0
      },
      "text/plain": [
       "Map:   0%|          | 0/29412 [00:00<?, ? examples/s]"
      ]
     },
     "metadata": {},
     "output_type": "display_data"
    },
    {
     "data": {
      "application/vnd.jupyter.widget-view+json": {
       "model_id": "87ba2d6d71d845eda35c9aa47433f484",
       "version_major": 2,
       "version_minor": 0
      },
      "text/plain": [
       "Map:   0%|          | 0/3676 [00:00<?, ? examples/s]"
      ]
     },
     "metadata": {},
     "output_type": "display_data"
    },
    {
     "data": {
      "application/vnd.jupyter.widget-view+json": {
       "model_id": "08c1f06cac354ead8e1c18c40320abb4",
       "version_major": 2,
       "version_minor": 0
      },
      "text/plain": [
       "Map:   0%|          | 0/3677 [00:00<?, ? examples/s]"
      ]
     },
     "metadata": {},
     "output_type": "display_data"
    }
   ],
   "source": [
    "label_mapping = {\n",
    "    \"Effective\": 0,\n",
    "    \"Adequate\": 1,\n",
    "    \"Ineffective\": 2\n",
    "}\n",
    "\n",
    "def encode_labels(example):\n",
    "    example['labels'] = label_mapping[example['discourse_effectiveness']]\n",
    "    return example\n",
    "\n",
    "dataset = dataset.map(encode_labels)"
   ]
  },
  {
   "cell_type": "code",
   "execution_count": 7,
   "metadata": {},
   "outputs": [],
   "source": [
    "model_name = \"bert-base-uncased\"\n",
    "tokenizer = AutoTokenizer.from_pretrained(model_name)"
   ]
  },
  {
   "cell_type": "code",
   "execution_count": 8,
   "metadata": {},
   "outputs": [
    {
     "data": {
      "application/vnd.jupyter.widget-view+json": {
       "model_id": "54015733c36742cfada97a680fc1514d",
       "version_major": 2,
       "version_minor": 0
      },
      "text/plain": [
       "Map:   0%|          | 0/29412 [00:00<?, ? examples/s]"
      ]
     },
     "metadata": {},
     "output_type": "display_data"
    },
    {
     "data": {
      "application/vnd.jupyter.widget-view+json": {
       "model_id": "250b34ad1cec4cb7aef1b132d0cfb87a",
       "version_major": 2,
       "version_minor": 0
      },
      "text/plain": [
       "Map:   0%|          | 0/3676 [00:00<?, ? examples/s]"
      ]
     },
     "metadata": {},
     "output_type": "display_data"
    },
    {
     "data": {
      "application/vnd.jupyter.widget-view+json": {
       "model_id": "e2754085782b438e934324f42995a00d",
       "version_major": 2,
       "version_minor": 0
      },
      "text/plain": [
       "Map:   0%|          | 0/3677 [00:00<?, ? examples/s]"
      ]
     },
     "metadata": {},
     "output_type": "display_data"
    }
   ],
   "source": [
    "def tokenize_function(example):\n",
    "    return tokenizer(example['discourse_text'], padding='max_length', truncation=True, max_length=128)\n",
    "\n",
    "tokenized_datasets = dataset.map(tokenize_function, batched=True)"
   ]
  },
  {
   "cell_type": "code",
   "execution_count": 9,
   "metadata": {},
   "outputs": [],
   "source": [
    "tokenized_datasets = tokenized_datasets.remove_columns(['discourse_id', 'essay_id', 'discourse_text', 'discourse_effectiveness'])  # Remove unnecessary columns\n",
    "tokenized_datasets.set_format('torch')"
   ]
  },
  {
   "cell_type": "code",
   "execution_count": 10,
   "metadata": {},
   "outputs": [],
   "source": [
    "from torch.utils.data import DataLoader\n",
    "\n",
    "train_dataloader = DataLoader(tokenized_datasets['train'], shuffle=True, batch_size=16)\n",
    "eval_dataloader = DataLoader(tokenized_datasets['validation'], batch_size=16)"
   ]
  },
  {
   "cell_type": "code",
   "execution_count": 11,
   "metadata": {},
   "outputs": [
    {
     "name": "stderr",
     "output_type": "stream",
     "text": [
      "Some weights of BertForSequenceClassification were not initialized from the model checkpoint at bert-base-uncased and are newly initialized: ['classifier.bias', 'classifier.weight']\n",
      "You should probably TRAIN this model on a down-stream task to be able to use it for predictions and inference.\n"
     ]
    }
   ],
   "source": [
    "from transformers import AutoModelForSequenceClassification\n",
    "\n",
    "num_labels = 3  # Effective, Adequate, Not Effective\n",
    "model = AutoModelForSequenceClassification.from_pretrained(model_name, num_labels=num_labels)"
   ]
  },
  {
   "cell_type": "code",
   "execution_count": 12,
   "metadata": {},
   "outputs": [
    {
     "name": "stderr",
     "output_type": "stream",
     "text": [
      "/Library/Frameworks/Python.framework/Versions/3.11/lib/python3.11/site-packages/transformers/training_args.py:1545: FutureWarning: `evaluation_strategy` is deprecated and will be removed in version 4.46 of 🤗 Transformers. Use `eval_strategy` instead\n",
      "  warnings.warn(\n"
     ]
    }
   ],
   "source": [
    "from transformers import Trainer, TrainingArguments\n",
    "import numpy as np\n",
    "from sklearn.metrics import accuracy_score, precision_recall_fscore_support\n",
    "\n",
    "def compute_metrics(eval_pred):\n",
    "    logits, labels = eval_pred\n",
    "    predictions = np.argmax(logits, axis=-1)\n",
    "    accuracy = accuracy_score(labels, predictions)\n",
    "    precision, recall, f1, _ = precision_recall_fscore_support(labels, predictions, average='weighted')\n",
    "    return {\n",
    "        'accuracy': accuracy,\n",
    "        'precision': precision,\n",
    "        'recall': recall,\n",
    "        'f1': f1,\n",
    "    }\n",
    "\n",
    "training_args = TrainingArguments(\n",
    "    output_dir='./results',\n",
    "    evaluation_strategy=\"epoch\",\n",
    "    learning_rate=2e-5,\n",
    "    per_device_train_batch_size=16,\n",
    "    per_device_eval_batch_size=16,\n",
    "    num_train_epochs=3,\n",
    "    weight_decay=0.01,\n",
    ")\n",
    "\n",
    "trainer = Trainer(\n",
    "    model=model,\n",
    "    args=training_args,\n",
    "    train_dataset=tokenized_datasets['train'],\n",
    "    eval_dataset=tokenized_datasets['validation'],\n",
    "    compute_metrics=compute_metrics,\n",
    ")"
   ]
  },
  {
   "cell_type": "code",
   "execution_count": 13,
   "metadata": {},
   "outputs": [
    {
     "data": {
      "application/vnd.jupyter.widget-view+json": {
       "model_id": "4ed07c47736e4995b9f469d7441c3d5c",
       "version_major": 2,
       "version_minor": 0
      },
      "text/plain": [
       "  0%|          | 0/5517 [00:00<?, ?it/s]"
      ]
     },
     "metadata": {},
     "output_type": "display_data"
    },
    {
     "name": "stdout",
     "output_type": "stream",
     "text": [
      "{'loss': 0.8317, 'grad_norm': 5.317483901977539, 'learning_rate': 1.818742069965561e-05, 'epoch': 0.27}\n",
      "{'loss': 0.7789, 'grad_norm': 4.347567081451416, 'learning_rate': 1.637484139931122e-05, 'epoch': 0.54}\n",
      "{'loss': 0.7608, 'grad_norm': 5.256758213043213, 'learning_rate': 1.456226209896683e-05, 'epoch': 0.82}\n"
     ]
    },
    {
     "data": {
      "application/vnd.jupyter.widget-view+json": {
       "model_id": "0b34fa01d6a545518099ad05b999496c",
       "version_major": 2,
       "version_minor": 0
      },
      "text/plain": [
       "  0%|          | 0/230 [00:00<?, ?it/s]"
      ]
     },
     "metadata": {},
     "output_type": "display_data"
    },
    {
     "name": "stdout",
     "output_type": "stream",
     "text": [
      "{'eval_loss': 0.7527022957801819, 'eval_accuracy': 0.6553318824809575, 'eval_precision': 0.6850660241875433, 'eval_recall': 0.6553318824809575, 'eval_f1': 0.6070311689753962, 'eval_runtime': 33.6238, 'eval_samples_per_second': 109.327, 'eval_steps_per_second': 6.84, 'epoch': 1.0}\n",
      "{'loss': 0.7221, 'grad_norm': 5.3140339851379395, 'learning_rate': 1.2749682798622441e-05, 'epoch': 1.09}\n",
      "{'loss': 0.652, 'grad_norm': 6.787603855133057, 'learning_rate': 1.093710349827805e-05, 'epoch': 1.36}\n",
      "{'loss': 0.6516, 'grad_norm': 3.5212807655334473, 'learning_rate': 9.12452419793366e-06, 'epoch': 1.63}\n",
      "{'loss': 0.6405, 'grad_norm': 8.219178199768066, 'learning_rate': 7.311944897589271e-06, 'epoch': 1.9}\n"
     ]
    },
    {
     "data": {
      "application/vnd.jupyter.widget-view+json": {
       "model_id": "4624a1ff33584af9bc004d8b2f82d089",
       "version_major": 2,
       "version_minor": 0
      },
      "text/plain": [
       "  0%|          | 0/230 [00:00<?, ?it/s]"
      ]
     },
     "metadata": {},
     "output_type": "display_data"
    },
    {
     "name": "stdout",
     "output_type": "stream",
     "text": [
      "{'eval_loss': 0.7432123422622681, 'eval_accuracy': 0.6751904243743199, 'eval_precision': 0.6652678643675826, 'eval_recall': 0.6751904243743199, 'eval_f1': 0.6485779458281301, 'eval_runtime': 33.5973, 'eval_samples_per_second': 109.414, 'eval_steps_per_second': 6.846, 'epoch': 2.0}\n",
      "{'loss': 0.5343, 'grad_norm': 8.498543739318848, 'learning_rate': 5.4993655972448805e-06, 'epoch': 2.18}\n",
      "{'loss': 0.5039, 'grad_norm': 8.324260711669922, 'learning_rate': 3.68678629690049e-06, 'epoch': 2.45}\n",
      "{'loss': 0.4928, 'grad_norm': 5.865993976593018, 'learning_rate': 1.8742069965560993e-06, 'epoch': 2.72}\n",
      "{'loss': 0.4956, 'grad_norm': 10.531672477722168, 'learning_rate': 6.162769621170926e-08, 'epoch': 2.99}\n"
     ]
    },
    {
     "data": {
      "application/vnd.jupyter.widget-view+json": {
       "model_id": "4782f0620a35411094888234e99496da",
       "version_major": 2,
       "version_minor": 0
      },
      "text/plain": [
       "  0%|          | 0/230 [00:00<?, ?it/s]"
      ]
     },
     "metadata": {},
     "output_type": "display_data"
    },
    {
     "name": "stdout",
     "output_type": "stream",
     "text": [
      "{'eval_loss': 0.8274021148681641, 'eval_accuracy': 0.6651251360174102, 'eval_precision': 0.6542846191147769, 'eval_recall': 0.6651251360174102, 'eval_f1': 0.6469859002290572, 'eval_runtime': 33.5927, 'eval_samples_per_second': 109.429, 'eval_steps_per_second': 6.847, 'epoch': 3.0}\n",
      "{'train_runtime': 2715.0201, 'train_samples_per_second': 32.499, 'train_steps_per_second': 2.032, 'train_loss': 0.6417659654421977, 'epoch': 3.0}\n"
     ]
    },
    {
     "data": {
      "text/plain": [
       "TrainOutput(global_step=5517, training_loss=0.6417659654421977, metrics={'train_runtime': 2715.0201, 'train_samples_per_second': 32.499, 'train_steps_per_second': 2.032, 'total_flos': 5804018881661952.0, 'train_loss': 0.6417659654421977, 'epoch': 3.0})"
      ]
     },
     "execution_count": 13,
     "metadata": {},
     "output_type": "execute_result"
    }
   ],
   "source": [
    "trainer.train()"
   ]
  },
  {
   "cell_type": "code",
   "execution_count": 14,
   "metadata": {},
   "outputs": [
    {
     "data": {
      "application/vnd.jupyter.widget-view+json": {
       "model_id": "3e52448f1dbc4a3080cf892efe6e0ba4",
       "version_major": 2,
       "version_minor": 0
      },
      "text/plain": [
       "  0%|          | 0/230 [00:00<?, ?it/s]"
      ]
     },
     "metadata": {},
     "output_type": "display_data"
    },
    {
     "name": "stdout",
     "output_type": "stream",
     "text": [
      "{'eval_loss': 0.7933307886123657, 'eval_accuracy': 0.6752787598585803, 'eval_precision': 0.6658982405506529, 'eval_recall': 0.6752787598585803, 'eval_f1': 0.6600345081922869, 'eval_runtime': 33.6396, 'eval_samples_per_second': 109.306, 'eval_steps_per_second': 6.837, 'epoch': 3.0}\n"
     ]
    }
   ],
   "source": [
    "results = trainer.evaluate(tokenized_datasets['test'])\n",
    "print(results)"
   ]
  },
  {
   "cell_type": "code",
   "execution_count": null,
   "metadata": {},
   "outputs": [
    {
     "data": {
      "application/vnd.jupyter.widget-view+json": {
       "model_id": "e0aa27135d374eca9e6df42f57433e15",
       "version_major": 2,
       "version_minor": 0
      },
      "text/plain": [
       "  0%|          | 0/230 [00:00<?, ?it/s]"
      ]
     },
     "metadata": {},
     "output_type": "display_data"
    },
    {
     "data": {
      "image/png": "[encoded data removed]",
      "text/plain": [
       "<Figure size 800x600 with 2 Axes>"
      ]
     },
     "metadata": {},
     "output_type": "display_data"
    },
    {
     "name": "stdout",
     "output_type": "stream",
     "text": [
      "Classification Report:\n",
      "\n",
      "               precision    recall  f1-score   support\n",
      "\n",
      "    Effective       0.70      0.77      0.74      2098\n",
      "     Adequate       0.64      0.72      0.68       933\n",
      "Not Effective       0.58      0.28      0.38       646\n",
      "\n",
      "     accuracy                           0.68      3677\n",
      "    macro avg       0.64      0.59      0.60      3677\n",
      " weighted avg       0.67      0.68      0.66      3677\n",
      "\n"
     ]
    },
    {
     "data": {
      "image/png": "[encoded data removed]",
      "text/plain": [
       "<Figure size 800x600 with 1 Axes>"
      ]
     },
     "metadata": {},
     "output_type": "display_data"
    },
    {
     "data": {
      "image/png": "[encoded data removed]",
      "text/plain": [
       "<Figure size 1000x600 with 1 Axes>"
      ]
     },
     "metadata": {},
     "output_type": "display_data"
    }
   ],
   "source": [
    "import numpy as np\n",
    "import matplotlib.pyplot as plt\n",
    "import seaborn as sns\n",
    "from sklearn.metrics import confusion_matrix, classification_report\n",
    "\n",
    "# 1. Generate Predictions on Test Set\n",
    "predictions = trainer.predict(tokenized_datasets['test'])\n",
    "predicted_labels = np.argmax(predictions.predictions, axis=1)\n",
    "true_labels = predictions.label_ids\n",
    "\n",
    "# 2. Define Label Mapping\n",
    "id_to_label = {0: \"Effective\", 1: \"Adequate\", 2: \"Not Effective\"}\n",
    "predicted_labels_str = [id_to_label[label] for label in predicted_labels]\n",
    "true_labels_str = [id_to_label[label] for label in true_labels]\n",
    "\n",
    "# 3. Create Confusion Matrix\n",
    "cm = confusion_matrix(true_labels_str, predicted_labels_str, labels=[\"Effective\", \"Adequate\", \"Not Effective\"])\n",
    "\n",
    "# 4. Plot Confusion Matrix\n",
    "plt.figure(figsize=(8,6))\n",
    "sns.heatmap(cm, annot=True, fmt='d', cmap='Blues', \n",
    "            xticklabels=[\"Effective\", \"Adequate\", \"Not Effective\"], \n",
    "            yticklabels=[\"Effective\", \"Adequate\", \"Not Effective\"])\n",
    "plt.ylabel('True Label')\n",
    "plt.xlabel('Predicted Label')\n",
    "plt.title('Confusion Matrix')\n",
    "plt.show()\n",
    "\n",
    "# 5. Print Classification Report\n",
    "print(\"Classification Report:\\n\")\n",
    "print(classification_report(true_labels_str, predicted_labels_str, target_names=[\"Effective\", \"Adequate\", \"Not Effective\"]))\n",
    "\n",
    "# 6. Plot Accuracy Over Epochs\n",
    "log_history = trainer.state.log_history\n",
    "epochs = []\n",
    "accuracies = []\n",
    "\n",
    "for log in log_history:\n",
    "    if 'eval_accuracy' in log:\n",
    "        epochs.append(log['epoch'])\n",
    "        accuracies.append(log['eval_accuracy'])\n",
    "\n",
    "plt.figure(figsize=(8,6))\n",
    "plt.plot(epochs, accuracies, marker='o', linestyle='-', color='b')\n",
    "plt.xlabel('Epoch')\n",
    "plt.ylabel('Validation Accuracy')\n",
    "plt.title('Validation Accuracy Over Epochs')\n",
    "plt.xticks(epochs)\n",
    "plt.ylim(0,1)\n",
    "plt.grid(True)\n",
    "plt.show()\n",
    "\n",
    "# 7. (Optional) Plot Loss Over Epochs\n",
    "train_losses = []\n",
    "eval_losses = []\n",
    "epochs_loss = []\n",
    "\n",
    "for log in log_history:\n",
    "    if 'loss' in log and 'epoch' in log:\n",
    "        train_losses.append(log['loss'])\n",
    "        epochs_loss.append(log['epoch'])\n",
    "    if 'eval_loss' in log:\n",
    "        eval_losses.append(log['eval_loss'])\n",
    "\n",
    "plt.figure(figsize=(10,6))\n",
    "plt.plot(epochs_loss, train_losses, label='Training Loss', marker='o')\n",
    "plt.plot(epochs, eval_losses, label='Validation Loss', marker='s')\n",
    "plt.xlabel('Epoch')\n",
    "plt.ylabel('Loss')\n",
    "plt.title('Training and Validation Loss Over Epochs')\n",
    "plt.xticks(range(1, len(epochs_loss)+1))\n",
    "plt.legend()\n",
    "plt.grid(True)\n",
    "plt.show()"
   ]
  }
 ],
 "metadata": {
  "kernelspec": {
   "display_name": "Python 3",
   "language": "python",
   "name": "python3"
  },
  "language_info": {
   "codemirror_mode": {
    "name": "ipython",
    "version": 3
   },
   "file_extension": ".py",
   "mimetype": "text/x-python",
   "name": "python",
   "nbconvert_exporter": "python",
   "pygments_lexer": "ipython3",
   "version": "3.11.9"
  }
 },
 "nbformat": 4,
 "nbformat_minor": 2
}
